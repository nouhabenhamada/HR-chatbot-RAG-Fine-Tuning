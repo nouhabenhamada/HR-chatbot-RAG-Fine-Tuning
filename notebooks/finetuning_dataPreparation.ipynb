{
  "cells": [
    {
      "cell_type": "markdown",
      "metadata": {
        "id": "BXWIea13Kcg7"
      },
      "source": [
        "# **imports and installations**"
      ]
    },
    {
      "cell_type": "code",
      "execution_count": null,
      "metadata": {
        "colab": {
          "base_uri": "https://localhost:8080/"
        },
        "id": "1n61u6HgxMGP",
        "outputId": "126a3ebb-f3c8-4cfd-e096-fcfde786fd9c"
      },
      "outputs": [
        {
          "name": "stdout",
          "output_type": "stream",
          "text": [
            "Collecting pymupdf\n",
            "  Downloading pymupdf-1.25.1-cp39-abi3-manylinux2014_x86_64.manylinux_2_17_x86_64.whl.metadata (3.4 kB)\n",
            "Collecting azure-identity\n",
            "  Downloading azure_identity-1.19.0-py3-none-any.whl.metadata (80 kB)\n",
            "\u001b[2K     \u001b[90m━━━━━━━━━━━━━━━━━━━━━━━━━━━━━━━━━━━━━━━━\u001b[0m \u001b[32m80.6/80.6 kB\u001b[0m \u001b[31m3.1 MB/s\u001b[0m eta \u001b[36m0:00:00\u001b[0m\n",
            "\u001b[?25hCollecting azure-core>=1.31.0 (from azure-identity)\n",
            "  Downloading azure_core-1.32.0-py3-none-any.whl.metadata (39 kB)\n",
            "Requirement already satisfied: cryptography>=2.5 in /usr/local/lib/python3.10/dist-packages (from azure-identity) (43.0.3)\n",
            "Collecting msal>=1.30.0 (from azure-identity)\n",
            "  Downloading msal-1.31.1-py3-none-any.whl.metadata (11 kB)\n",
            "Collecting msal-extensions>=1.2.0 (from azure-identity)\n",
            "  Downloading msal_extensions-1.2.0-py3-none-any.whl.metadata (7.6 kB)\n",
            "Requirement already satisfied: typing-extensions>=4.0.0 in /usr/local/lib/python3.10/dist-packages (from azure-identity) (4.12.2)\n",
            "Requirement already satisfied: requests>=2.21.0 in /usr/local/lib/python3.10/dist-packages (from azure-core>=1.31.0->azure-identity) (2.32.3)\n",
            "Requirement already satisfied: six>=1.11.0 in /usr/local/lib/python3.10/dist-packages (from azure-core>=1.31.0->azure-identity) (1.17.0)\n",
            "Requirement already satisfied: cffi>=1.12 in /usr/local/lib/python3.10/dist-packages (from cryptography>=2.5->azure-identity) (1.17.1)\n",
            "Requirement already satisfied: PyJWT<3,>=1.0.0 in /usr/local/lib/python3.10/dist-packages (from PyJWT[crypto]<3,>=1.0.0->msal>=1.30.0->azure-identity) (2.10.1)\n",
            "Collecting portalocker<3,>=1.4 (from msal-extensions>=1.2.0->azure-identity)\n",
            "  Downloading portalocker-2.10.1-py3-none-any.whl.metadata (8.5 kB)\n",
            "Requirement already satisfied: pycparser in /usr/local/lib/python3.10/dist-packages (from cffi>=1.12->cryptography>=2.5->azure-identity) (2.22)\n",
            "Requirement already satisfied: charset-normalizer<4,>=2 in /usr/local/lib/python3.10/dist-packages (from requests>=2.21.0->azure-core>=1.31.0->azure-identity) (3.4.0)\n",
            "Requirement already satisfied: idna<4,>=2.5 in /usr/local/lib/python3.10/dist-packages (from requests>=2.21.0->azure-core>=1.31.0->azure-identity) (3.10)\n",
            "Requirement already satisfied: urllib3<3,>=1.21.1 in /usr/local/lib/python3.10/dist-packages (from requests>=2.21.0->azure-core>=1.31.0->azure-identity) (2.2.3)\n",
            "Requirement already satisfied: certifi>=2017.4.17 in /usr/local/lib/python3.10/dist-packages (from requests>=2.21.0->azure-core>=1.31.0->azure-identity) (2024.12.14)\n",
            "Downloading pymupdf-1.25.1-cp39-abi3-manylinux2014_x86_64.manylinux_2_17_x86_64.whl (20.0 MB)\n",
            "\u001b[2K   \u001b[90m━━━━━━━━━━━━━━━━━━━━━━━━━━━━━━━━━━━━━━━━\u001b[0m \u001b[32m20.0/20.0 MB\u001b[0m \u001b[31m48.6 MB/s\u001b[0m eta \u001b[36m0:00:00\u001b[0m\n",
            "\u001b[?25hDownloading azure_identity-1.19.0-py3-none-any.whl (187 kB)\n",
            "\u001b[2K   \u001b[90m━━━━━━━━━━━━━━━━━━━━━━━━━━━━━━━━━━━━━━━━\u001b[0m \u001b[32m187.6/187.6 kB\u001b[0m \u001b[31m12.1 MB/s\u001b[0m eta \u001b[36m0:00:00\u001b[0m\n",
            "\u001b[?25hDownloading azure_core-1.32.0-py3-none-any.whl (198 kB)\n",
            "\u001b[2K   \u001b[90m━━━━━━━━━━━━━━━━━━━━━━━━━━━━━━━━━━━━━━━━\u001b[0m \u001b[32m198.9/198.9 kB\u001b[0m \u001b[31m11.5 MB/s\u001b[0m eta \u001b[36m0:00:00\u001b[0m\n",
            "\u001b[?25hDownloading msal-1.31.1-py3-none-any.whl (113 kB)\n",
            "\u001b[2K   \u001b[90m━━━━━━━━━━━━━━━━━━━━━━━━━━━━━━━━━━━━━━━━\u001b[0m \u001b[32m113.2/113.2 kB\u001b[0m \u001b[31m5.7 MB/s\u001b[0m eta \u001b[36m0:00:00\u001b[0m\n",
            "\u001b[?25hDownloading msal_extensions-1.2.0-py3-none-any.whl (19 kB)\n",
            "Downloading portalocker-2.10.1-py3-none-any.whl (18 kB)\n",
            "Installing collected packages: pymupdf, portalocker, azure-core, msal, msal-extensions, azure-identity\n",
            "Successfully installed azure-core-1.32.0 azure-identity-1.19.0 msal-1.31.1 msal-extensions-1.2.0 portalocker-2.10.1 pymupdf-1.25.1\n",
            "Requirement already satisfied: openai in /usr/local/lib/python3.10/dist-packages (1.57.4)\n",
            "Requirement already satisfied: azure-identity in /usr/local/lib/python3.10/dist-packages (1.19.0)\n",
            "Requirement already satisfied: anyio<5,>=3.5.0 in /usr/local/lib/python3.10/dist-packages (from openai) (3.7.1)\n",
            "Requirement already satisfied: distro<2,>=1.7.0 in /usr/local/lib/python3.10/dist-packages (from openai) (1.9.0)\n",
            "Requirement already satisfied: httpx<1,>=0.23.0 in /usr/local/lib/python3.10/dist-packages (from openai) (0.28.1)\n",
            "Requirement already satisfied: jiter<1,>=0.4.0 in /usr/local/lib/python3.10/dist-packages (from openai) (0.8.2)\n",
            "Requirement already satisfied: pydantic<3,>=1.9.0 in /usr/local/lib/python3.10/dist-packages (from openai) (2.10.3)\n",
            "Requirement already satisfied: sniffio in /usr/local/lib/python3.10/dist-packages (from openai) (1.3.1)\n",
            "Requirement already satisfied: tqdm>4 in /usr/local/lib/python3.10/dist-packages (from openai) (4.67.1)\n",
            "Requirement already satisfied: typing-extensions<5,>=4.11 in /usr/local/lib/python3.10/dist-packages (from openai) (4.12.2)\n",
            "Requirement already satisfied: azure-core>=1.31.0 in /usr/local/lib/python3.10/dist-packages (from azure-identity) (1.32.0)\n",
            "Requirement already satisfied: cryptography>=2.5 in /usr/local/lib/python3.10/dist-packages (from azure-identity) (43.0.3)\n",
            "Requirement already satisfied: msal>=1.30.0 in /usr/local/lib/python3.10/dist-packages (from azure-identity) (1.31.1)\n",
            "Requirement already satisfied: msal-extensions>=1.2.0 in /usr/local/lib/python3.10/dist-packages (from azure-identity) (1.2.0)\n",
            "Requirement already satisfied: idna>=2.8 in /usr/local/lib/python3.10/dist-packages (from anyio<5,>=3.5.0->openai) (3.10)\n",
            "Requirement already satisfied: exceptiongroup in /usr/local/lib/python3.10/dist-packages (from anyio<5,>=3.5.0->openai) (1.2.2)\n",
            "Requirement already satisfied: requests>=2.21.0 in /usr/local/lib/python3.10/dist-packages (from azure-core>=1.31.0->azure-identity) (2.32.3)\n",
            "Requirement already satisfied: six>=1.11.0 in /usr/local/lib/python3.10/dist-packages (from azure-core>=1.31.0->azure-identity) (1.17.0)\n",
            "Requirement already satisfied: cffi>=1.12 in /usr/local/lib/python3.10/dist-packages (from cryptography>=2.5->azure-identity) (1.17.1)\n",
            "Requirement already satisfied: certifi in /usr/local/lib/python3.10/dist-packages (from httpx<1,>=0.23.0->openai) (2024.12.14)\n",
            "Requirement already satisfied: httpcore==1.* in /usr/local/lib/python3.10/dist-packages (from httpx<1,>=0.23.0->openai) (1.0.7)\n",
            "Requirement already satisfied: h11<0.15,>=0.13 in /usr/local/lib/python3.10/dist-packages (from httpcore==1.*->httpx<1,>=0.23.0->openai) (0.14.0)\n",
            "Requirement already satisfied: PyJWT<3,>=1.0.0 in /usr/local/lib/python3.10/dist-packages (from PyJWT[crypto]<3,>=1.0.0->msal>=1.30.0->azure-identity) (2.10.1)\n",
            "Requirement already satisfied: portalocker<3,>=1.4 in /usr/local/lib/python3.10/dist-packages (from msal-extensions>=1.2.0->azure-identity) (2.10.1)\n",
            "Requirement already satisfied: annotated-types>=0.6.0 in /usr/local/lib/python3.10/dist-packages (from pydantic<3,>=1.9.0->openai) (0.7.0)\n",
            "Requirement already satisfied: pydantic-core==2.27.1 in /usr/local/lib/python3.10/dist-packages (from pydantic<3,>=1.9.0->openai) (2.27.1)\n",
            "Requirement already satisfied: pycparser in /usr/local/lib/python3.10/dist-packages (from cffi>=1.12->cryptography>=2.5->azure-identity) (2.22)\n",
            "Requirement already satisfied: charset-normalizer<4,>=2 in /usr/local/lib/python3.10/dist-packages (from requests>=2.21.0->azure-core>=1.31.0->azure-identity) (3.4.0)\n",
            "Requirement already satisfied: urllib3<3,>=1.21.1 in /usr/local/lib/python3.10/dist-packages (from requests>=2.21.0->azure-core>=1.31.0->azure-identity) (2.2.3)\n",
            "Collecting openai==0.28\n",
            "  Downloading openai-0.28.0-py3-none-any.whl.metadata (13 kB)\n",
            "Requirement already satisfied: requests>=2.20 in /usr/local/lib/python3.10/dist-packages (from openai==0.28) (2.32.3)\n",
            "Requirement already satisfied: tqdm in /usr/local/lib/python3.10/dist-packages (from openai==0.28) (4.67.1)\n",
            "Requirement already satisfied: aiohttp in /usr/local/lib/python3.10/dist-packages (from openai==0.28) (3.11.10)\n",
            "Requirement already satisfied: charset-normalizer<4,>=2 in /usr/local/lib/python3.10/dist-packages (from requests>=2.20->openai==0.28) (3.4.0)\n",
            "Requirement already satisfied: idna<4,>=2.5 in /usr/local/lib/python3.10/dist-packages (from requests>=2.20->openai==0.28) (3.10)\n",
            "Requirement already satisfied: urllib3<3,>=1.21.1 in /usr/local/lib/python3.10/dist-packages (from requests>=2.20->openai==0.28) (2.2.3)\n",
            "Requirement already satisfied: certifi>=2017.4.17 in /usr/local/lib/python3.10/dist-packages (from requests>=2.20->openai==0.28) (2024.12.14)\n",
            "Requirement already satisfied: aiohappyeyeballs>=2.3.0 in /usr/local/lib/python3.10/dist-packages (from aiohttp->openai==0.28) (2.4.4)\n",
            "Requirement already satisfied: aiosignal>=1.1.2 in /usr/local/lib/python3.10/dist-packages (from aiohttp->openai==0.28) (1.3.2)\n",
            "Requirement already satisfied: async-timeout<6.0,>=4.0 in /usr/local/lib/python3.10/dist-packages (from aiohttp->openai==0.28) (4.0.3)\n",
            "Requirement already satisfied: attrs>=17.3.0 in /usr/local/lib/python3.10/dist-packages (from aiohttp->openai==0.28) (24.3.0)\n",
            "Requirement already satisfied: frozenlist>=1.1.1 in /usr/local/lib/python3.10/dist-packages (from aiohttp->openai==0.28) (1.5.0)\n",
            "Requirement already satisfied: multidict<7.0,>=4.5 in /usr/local/lib/python3.10/dist-packages (from aiohttp->openai==0.28) (6.1.0)\n",
            "Requirement already satisfied: propcache>=0.2.0 in /usr/local/lib/python3.10/dist-packages (from aiohttp->openai==0.28) (0.2.1)\n",
            "Requirement already satisfied: yarl<2.0,>=1.17.0 in /usr/local/lib/python3.10/dist-packages (from aiohttp->openai==0.28) (1.18.3)\n",
            "Requirement already satisfied: typing-extensions>=4.1.0 in /usr/local/lib/python3.10/dist-packages (from multidict<7.0,>=4.5->aiohttp->openai==0.28) (4.12.2)\n",
            "Downloading openai-0.28.0-py3-none-any.whl (76 kB)\n",
            "\u001b[2K   \u001b[90m━━━━━━━━━━━━━━━━━━━━━━━━━━━━━━━━━━━━━━━━\u001b[0m \u001b[32m76.5/76.5 kB\u001b[0m \u001b[31m1.7 MB/s\u001b[0m eta \u001b[36m0:00:00\u001b[0m\n",
            "\u001b[?25hInstalling collected packages: openai\n",
            "  Attempting uninstall: openai\n",
            "    Found existing installation: openai 1.57.4\n",
            "    Uninstalling openai-1.57.4:\n",
            "      Successfully uninstalled openai-1.57.4\n",
            "Successfully installed openai-0.28.0\n"
          ]
        }
      ],
      "source": [
        "!pip install pymupdf azure-identity\n",
        "!pip install  openai azure-identity\n",
        "!pip install openai==0.28"
      ]
    },
    {
      "cell_type": "code",
      "execution_count": null,
      "metadata": {
        "id": "feXmglIgxN4t"
      },
      "outputs": [],
      "source": [
        "# NESTED ASYNCIO LOOP NEEDED TO RUN ASYNC IN A NOTEBOOK\n",
        "import nest_asyncio\n",
        "\n",
        "nest_asyncio.apply()"
      ]
    },
    {
      "cell_type": "markdown",
      "metadata": {
        "id": "-C4arNhqKmZT"
      },
      "source": [
        "# **configuration**"
      ]
    },
    {
      "cell_type": "code",
      "execution_count": null,
      "metadata": {
        "id": "nzGt_VYIxU_D"
      },
      "outputs": [],
      "source": [
        "import openai\n",
        "import re\n",
        "\n",
        "# Récupération des variables depuis Colab userdata\n",
        "from google.colab import userdata\n",
        "\n",
        "# Configuration des paramètres pour Azure OpenAI\n",
        "deployment_name=\"...\"\n",
        "model_name = \"...\"  # Nom du modèle\n",
        "openai.api_key = \"...\"\n",
        "openai.api_base = \"...\"\n",
        "openai.api_version = '...'  # Version de l'API\n",
        "openai.api_type = 'azure'  # Type de l'API"
      ]
    },
    {
      "cell_type": "code",
      "execution_count": null,
      "metadata": {
        "id": "cLh0rcFZxWlR"
      },
      "outputs": [],
      "source": [
        "import time\n",
        "\n",
        "def generer_qr(prompt):\n",
        "    try:\n",
        "        response = openai.ChatCompletion.create(\n",
        "            engine=\"gpt-35-turbo-16k\",\n",
        "            messages=[\n",
        "                {\"role\": \"system\", \"content\": \"You are a knowledgeable assistant that generates \"},\n",
        "                {\"role\": \"user\", \"content\": f\"\"}\n",
        "            ],\n",
        "            temperature=0,\n",
        "            max_tokens=1000,\n",
        "            frequency_penalty=0,\n",
        "            presence_penalty=0\n",
        "        )\n",
        "        return response['choices'][0]['message']['content']\n",
        "\n",
        "    except openai.error.RateLimitError as e:\n",
        "        time.sleep(40)\n",
        "        return generer_qr(prompt)\n",
        "\n",
        "\n"
      ]
    },
    {
      "cell_type": "code",
      "execution_count": null,
      "metadata": {
        "id": "Wu2kaH9dxYWZ"
      },
      "outputs": [],
      "source": [
        "def get_embedding(text):\n",
        "    response = openai.Embedding.create(\n",
        "        input=[text],  # API OpenAI attend une liste de textes\n",
        "        engine=\"text-embedding-ada-002\"\n",
        "    )\n",
        "    return response['data'][0]['embedding']"
      ]
    },
    {
      "cell_type": "markdown",
      "metadata": {
        "id": "iG4RCnMSxioz"
      },
      "source": [
        "# **text chunking**"
      ]
    },
    {
      "cell_type": "code",
      "execution_count": null,
      "metadata": {
        "colab": {
          "base_uri": "https://localhost:8080/"
        },
        "id": "SN4bhidVxlMs",
        "outputId": "eae30286-e547-4da4-9680-9e6000908058"
      },
      "outputs": [
        {
          "name": "stdout",
          "output_type": "stream",
          "text": [
            "[0.12618265713932775, 0.15797161533994475, 0.17540724206374714, 0.12849259516395928, 0.1531196557413581, 0.1765500051284875, 0.16242187376070394, 0.17759651253858522, 0.22966627617043445, 0.13606648131090326, 0.19881753471168895, 0.12725937677862975, 0.17399967097151048, 0.13760235457638892, 0.14306518940829216, 0.13153799019045387, 0.17964959291944393, 0.1694681408676837, 0.1949330476218426, 0.09845653140542165, 0.2637681986206786, 0.2605271611183293, 0.12298635547942571, 0.14940756780762532, 0.1644730645030863, 0.2012737722713498, 0.08092036242606859, 0.1682759930703872, 0.13975208109599624, 0.15164566439972016, 0.26931600298537806, 0.27641186428593445, 0.16653556445082718, 0.18593129410091036, 0.14278728952896125, 0.1322317439810733, 0.27997050773929355, 0.2805084150184697, 0.1332053550621316, 0.17276150978902305, 0.10569727195105671, 0.12190814427266672, 0.12615836002110492, 0.11602405662747106, 0.22920370167761828, 0.12302036312183728, 0.25265648892999615, 0.24449087600131603, 0.1186474386804176, 0.11275370721684697, 0.132174524797809, 0.14249772944133876, 0.14995922719976817, 0.13651254994156026, 0.1495683409339561, 0.13396990829431277, 0.1216292930676941, 0.13431747620112944, 0.20079677826581732, 0.16031473290416132, 0.12784082602257218, 0.1426460861791845, 0.25642673473976274, 0.2756210257779075, 0.1360501461349526, 0.15135657324752239, 0.17322816528708773, 0.15198995049931519, 0.15067542379450227, 0.1495843410691725, 0.1892269131595501, 0.17835784975196445, 0.19278690781423524, 0.10501476319000347, 0.16002933683785725, 0.1297703606782341, 0.13932459955817544, 0.26235272607443405, 0.2622632371957593, 0.11750281918740846, 0.16082342868859745, 0.11901269729445574, 0.10238799300761359, 0.1442736736320307, 0.1407292592498538, 0.2742624152505482, 0.25571379653130555, 0.09106252413495008, 0.10184341550324594, 0.176332848796376, 0.116129333196626, 0.27824497584606234, 0.2742902966768711, 0.1300748836757768, 0.14492988337394364, 0.13089753415215577, 0.1468298017242855, 0.13612939048360717, 0.17798025363844183, 0.11729768600785084, 0.15513797622207037, 0.1220785975520513, 0.13752253013786797, 0.11736691882555417, 0.13553006172174054, 0.26436086216231025, 0.26993779357939585, 0.10505177136843447, 0.1098473677277425, 0.17281732846311681, 0.16507776405618957, 0.15794683656932063, 0.1906132948260123, 0.192857522952806, 0.12855882411715402, 0.2769047827500265, 0.2681243363870778, 0.19297383402623636, 0.12747333006201877, 0.1829303903916466, 0.17618175590221152, 0.15638613016876368, 0.18571412381305008, 0.20642383885630433, 0.1877068019831043, 0.17140036608563447, 0.1022621919735367, 0.12868280241470686, 0.1319182030315843, 0.2632687797566161, 0.26147782113903106, 0.1119792664140804, 0.14803201450812886, 0.1368652728432478, 0.19049683382967553, 0.1612192485550692, 0.1868277980879678, 0.26806941047590527, 0.2699939746754283, 0.16631340106703352, 0.16937025966684405, 0.20118133445822095, 0.22206748914808438, 0.18555580983913278, 0.18518665103855114, 0.17112449694275278, 0.2093487627021391, 0.278391961878243, 0.27435690730493334, 0.11238452407400545, 0.11043727008237503, 0.18908974317556626, 0.11352639086771754, 0.21967744606568884, 0.1704204342322857, 0.12243418995871769, 0.15731496319793759, 0.20630824629924216, 0.10741739007012141, 0.12985795008405465, 0.10147360816723672, 0.14862281221052565, 0.26607998027668056, 0.26130079736290246, 0.17806553761384025, 0.1786944720974859, 0.19330086063730623, 0.1806200328378318, 0.18215598321448134, 0.1382561701283188, 0.27402003948472, 0.26693809170489813, 0.15353600200620132, 0.19496790512106865, 0.1449788684832124, 0.19624505872194686, 0.16832039769029472, 0.07402048416492635, 0.16357326681138395, 0.162802272979921, 0.10658297040303555, 0.20163529078932796, 0.1910666614693145, 0.2683852410337346, 0.2849132676705628, 0.12933824787712522, 0.14481815756301875, 0.13193771450122393, 0.2020190047450534, 0.15791310610618803, 0.1706029327100882, 0.16855255617279197, 0.22381709999143862, 0.10563538862878419, 0.13224757517747687, 0.15289609159077122, 0.262695664858289, 0.2669064745910056, 0.13860962332718885, 0.19169586138771477, 0.1454731979477144, 0.1927330984912512, 0.13323459701916818, 0.13603314783217346, 0.1895543243594544, 0.1330757836222196, 0.1534881149197369, 0.13040287124927308, 0.18707020340843672, 0.2760020838574029, 0.257079849816495, 0.13880090891768027, 0.1679603073716448, 0.15716046658524074, 0.13452283510304008, 0.20707460279884082, 0.17255680644290883, 0.20686307696034556, 0.16579480181850959, 0.20735773735694607, 0.09510753516028436, 0.145295279962798, 0.15754581225560638, 0.2646346274393835, 0.25851860986721387, 0.20068143211737088, 0.17577393700152655, 0.15965233212651353, 0.15093576080459647, 0.16367181489600746, 0.1968506176601874, 0.12228148455196397, 0.28763494209064433, 0.262990340404774, 0.13324171627011938, 0.1481474184160374, 0.15888982358522696, 0.17593615495390702, 0.17682064372276218, 0.20485645048102652, 0.14559022823981116, 0.166918911596727, 0.12210775598935841]\n"
          ]
        }
      ],
      "source": [
        "import openai\n",
        "import re\n",
        "import fitz  # PyMuPDF\n",
        "import numpy as np\n",
        "from sklearn.metrics.pairwise import cosine_similarity\n",
        "\n",
        "# Récupération des variables depuis Colab userdata\n",
        "from google.colab import userdata\n",
        "\n",
        "\n",
        "\n",
        "# Lire le fichier PDF\n",
        "pdf_file_path = 'rh_policy_entreprise_xxx.pdf'  # Remplacez par le chemin vers votre fichier\n",
        "doc = fitz.open(pdf_file_path)\n",
        "\n",
        "# Extraire le texte du PDF\n",
        "text = \"\"\n",
        "for page in doc:\n",
        "    text += page.get_text()\n",
        "\n",
        "# Fermer le document PDF\n",
        "doc.close()\n",
        "\n",
        "# Diviser le texte en phrases\n",
        "sentences = re.split(r'(?<=[.?!])\\s+', text)\n",
        "\n",
        "# Créer des embeddings pour chaque phrase\n",
        "# S'assurer que les phrases sont sous forme de liste de textes\n",
        "embeddings = []\n",
        "for sentence in sentences:\n",
        "    if sentence.strip():  # S'assurer que la phrase n'est pas vide\n",
        "        embedding = get_embedding(sentence)\n",
        "        embeddings.append(embedding)\n",
        "\n",
        "# Calculer les distances cosinus entre les embeddings\n",
        "def calculate_cosine_distances(embeddings):\n",
        "    distances = []\n",
        "    for i in range(len(embeddings) - 1):\n",
        "        similarity = cosine_similarity([embeddings[i]], [embeddings[i + 1]])[0][0]\n",
        "        distance = 1 - similarity\n",
        "        distances.append(distance)\n",
        "    return distances\n",
        "\n",
        "# Calculer les distances cosinus\n",
        "distances = calculate_cosine_distances(embeddings)\n",
        "\n",
        "# Affichage des distances\n",
        "print(distances)\n"
      ]
    },
    {
      "cell_type": "code",
      "execution_count": null,
      "metadata": {
        "colab": {
          "base_uri": "https://localhost:8080/",
          "height": 430
        },
        "id": "V_xwt3cMxp7Q",
        "outputId": "79cb78b7-0f6a-4636-f753-afab5a38a892"
      },
      "outputs": [
        {
          "data": {
            "image/png": "[encoded data removed]",
            "text/plain": [
              "<Figure size 640x480 with 1 Axes>"
            ]
          },
          "metadata": {},
          "output_type": "display_data"
        }
      ],
      "source": [
        "import matplotlib.pyplot as plt\n",
        "distances = calculate_cosine_distances(embeddings)\n",
        "plt.plot(distances);"
      ]
    },
    {
      "cell_type": "code",
      "execution_count": null,
      "metadata": {
        "colab": {
          "base_uri": "https://localhost:8080/",
          "height": 472
        },
        "id": "e9FBw0TRxtoq",
        "outputId": "738af527-5a3d-4f86-e088-91405a36052c"
      },
      "outputs": [
        {
          "data": {
            "image/png": "[encoded data removed]",
            "text/plain": [
              "<Figure size 640x480 with 1 Axes>"
            ]
          },
          "metadata": {},
          "output_type": "display_data"
        }
      ],
      "source": [
        "\n",
        "plt.plot(distances);\n",
        "\n",
        "y_upper_bound = 1.7\n",
        "plt.ylim(0, y_upper_bound)\n",
        "plt.xlim(0, len(distances))\n",
        "# Déterminer le seuil pour le chunking\n",
        "breakpoint_distance_threshold = np.percentile(distances, 80)\n",
        "plt.axhline(y=breakpoint_distance_threshold, color='r', linestyle='-');\n",
        "# Then we'll see how many distances are actually above this one\n",
        "num_distances_above_theshold = len([x for x in distances if x > breakpoint_distance_threshold]) # The amount of distances above your threshold\n",
        "plt.text(x=(len(distances)*.01), y=y_upper_bound/50, s=f\"{num_distances_above_theshold + 1} Chunks\");\n",
        "\n",
        "# Identifier les indices où les distances dépassent le seuil\n",
        "indices_above_threshold = [i for i, x in enumerate(distances) if x > breakpoint_distance_threshold]\n",
        "# Filtrer les indices pour ignorer ceux qui sont trop proches les uns des autres\n",
        "filtered_indices = [indices_above_threshold[0]]  # Démarrer avec le premier indice\n",
        "min_distance_between_chunks = 5\n",
        "for i in range(1, len(indices_above_threshold)):\n",
        "    if indices_above_threshold[i] - filtered_indices[-1] >= min_distance_between_chunks:\n",
        "        filtered_indices.append(indices_above_threshold[i])\n",
        "# Start of the shading and text\n",
        "colors = ['b', 'g', 'r', 'c', 'm', 'y', 'k']\n",
        "# Visualisation avec les indices filtrés\n",
        "for i, breakpoint_index in enumerate(filtered_indices):\n",
        "    start_index = 0 if i == 0 else filtered_indices[i - 1]\n",
        "    end_index = breakpoint_index if i < len(filtered_indices) - 1 else len(distances)\n",
        "\n",
        "    plt.axvspan(start_index, end_index, facecolor=colors[i % len(colors)], alpha=0.25)\n",
        "    plt.text(x=np.average([start_index, end_index]),\n",
        "             y=breakpoint_distance_threshold + (y_upper_bound)/ 20,\n",
        "             s=f\"Chunk #{i}\", horizontalalignment='center',\n",
        "             rotation='vertical')\n",
        "\n",
        "# Ajout d'un shading pour le dernier chunk si nécessaire\n",
        "if filtered_indices:\n",
        "    last_breakpoint = filtered_indices[-1]\n",
        "    if last_breakpoint < len(distances):\n",
        "        plt.axvspan(last_breakpoint, len(distances), facecolor=colors[len(filtered_indices) % len(colors)], alpha=0.25)\n",
        "        plt.text(x=np.average([last_breakpoint, len(distances)]),\n",
        "                 y=breakpoint_distance_threshold + (y_upper_bound)/ 20,\n",
        "                 s=f\"Chunk #{i+1}\",\n",
        "                 rotation='vertical')\n",
        "\n",
        "plt.title(\"Chunks Based On Embedding Breakpoints\")\n",
        "plt.xlabel(\"Index of sentences in essay (Sentence Position)\")\n",
        "plt.ylabel(\"Cosine distance between sequential sentences\")\n",
        "\n",
        "plt.show()\n"
      ]
    },
    {
      "cell_type": "code",
      "execution_count": null,
      "metadata": {
        "colab": {
          "base_uri": "https://localhost:8080/"
        },
        "id": "fgoDpeFTxwzy",
        "outputId": "19470d13-44b0-441d-aad3-5dd818f7927b"
      },
      "outputs": [
        {
          "name": "stdout",
          "output_type": "stream",
          "text": [
            "Chunk #1:\n",
            "Introduction Générale\n",
            "Introduction Générale\n",
            "Présentation de l ’ent repr ise XXX\n",
            "L’e ntrepris e X XX est une en trep ris e innova nte spécialis ée dans le d oma ine d\n",
            "e l'automobi le, reconnue po ur so...\n",
            "\n",
            "\n",
            "Chunk #2:\n",
            "Collaboration : l’ entreprise XX X  val orise  le t ravail d'équipe  et la col\n",
            "laboration . Le s employ és sont encouragés à  partager leu rs i dée s et à  tr\n",
            "availler ensemble pour atteindre des obje...\n",
            "\n",
            "\n",
            "Chunk #3:\n",
            "1. Types de Congés\n",
            "l’entreprise XXX offre plusieurs types de congés afin de répondre aux besoins\n",
            "divers de ses employés :\n",
            "Congés Annuels :\n",
            "Chaque employé à temps plein a droit à 25 jours de congés pay...\n",
            "\n",
            "\n",
            "Chunk #4:\n",
            "2. Procédure de Demande de Congés\n",
            "La demande de congés doit être effectuée selon la procédure suivante :\n",
            "Soumission de la Demande :\n",
            "Les employés doivent soumettre une demande de congé par écrit à leur...\n",
            "\n",
            "\n",
            "Chunk #5:\n",
            "3. Accumulation et Utilisation des Congés\n",
            "Accumulation des Congés :\n",
            "Les jours de congés annuels non utilisés peuvent être reportés à l'année suivante,\n",
            "avec un maximum de 5 jours reportables. Au-delà d...\n",
            "\n",
            "\n",
            "Chunk #6:\n",
            "Procédures de Recrutement\n",
            "Introduction\n",
            "La procédure de recrutement de l’entreprise XXX a été conçue pour attirer et\n",
            "sélectionner les meilleurs talents, tout en garantissant un processus\n",
            "équitable et t...\n",
            "\n",
            "\n",
            "Chunk #7:\n",
            "3. Intégration des Nouveaux Employés\n",
            "Préparation de l’Intégration :\n",
            "Une fois qu’un candidat a accepté l’offre d'emploi, le département RH prépare\n",
            "son intégration. Cela inclut :\n",
            "La préparation d'un con...\n",
            "\n",
            "\n",
            "Chunk #8:\n",
            "1. Opportunités de Formation\n",
            "l’entreprise XXX propose divers types de formations pour soutenir le\n",
            "développement professionnel de ses employés :\n",
            "Formations Techniques :\n",
            "Ces formations visent à développ...\n",
            "\n",
            "\n",
            "Chunk #9:\n",
            "2. Procédure d'Inscription aux Formations\n",
            "Identification des Besoins en Formation :\n",
            "Les employés peuvent identifier leurs besoins en formation lors des\n",
            "évaluations de performance annuelles ou à tout m...\n",
            "\n",
            "\n",
            "Chunk #10:\n",
            "3. Évaluation des Programmes de Formation\n",
            "Feedback des Participants :\n",
            "Après chaque formation, les participants sont invités à remplir un\n",
            "questionnaire de satisfaction pour évaluer la qualité de la for...\n",
            "\n",
            "\n",
            "Chunk #11:\n",
            "2. Processus d'Évaluation\n",
            "Évaluations Annuelles :\n",
            "l’entreprise XXX effectue des évaluations de performance annuelles pour\n",
            "tous les employés. Ce processus inclut :\n",
            "Une auto-évaluation où chaque employé...\n",
            "\n",
            "\n",
            "Chunk #12:\n",
            "3. Plans de Développement Individuel\n",
            "Identification des Besoins de Développement :\n",
            "Suite à l'évaluation de performance, les besoins de développement\n",
            "personnel et professionnel de chaque employé sont i...\n",
            "\n",
            "\n",
            "Chunk #13:\n",
            "1. Code de Conduite et Comportement Attendu\n",
            "Principes Généraux :\n",
            "Chaque employé est attendu pour agir avec intégrité, respect, et\n",
            "professionnalisme dans toutes les interactions, qu'elles soient\n",
            "intern...\n",
            "\n",
            "\n",
            "Chunk #14:\n",
            "2. Sanctions en Cas de Non-Respect des Règles\n",
            "Types de Violations :\n",
            "Les violations du code de conduite peuvent inclure, mais ne se\n",
            "limitent pas à :\n",
            "Harcèlement ou discrimination. Conduite inappropriée...\n",
            "\n",
            "\n",
            "Chunk #15:\n",
            "Sanctions Disciplinaires :\n",
            "En cas de non-respect des règles, l’entreprise XXX appliquera des\n",
            "sanctions qui peuvent inclure :\n",
            "Un avertissement verbal. Un avertissement écrit. La suspension temporaire. ...\n",
            "\n",
            "\n",
            "Chunk #16:\n",
            "3. Procédures pour Signaler des Comportements Inappropriés\n",
            "Mécanisme de Signalement :\n",
            "l’entreprise XXX encourage tous les employés à signaler tout\n",
            "comportement inapproprié. Un mécanisme de signalement...\n",
            "\n",
            "\n",
            "Chunk #17:\n",
            "Protection des Lanceurs d'Alerte :\n",
            "l’entreprise XXX protège les employés qui signalent des comportements\n",
            "inappropriés contre toute forme de représailles. La confidentialité des\n",
            "signalements sera respe...\n",
            "\n",
            "\n",
            "Chunk #18:\n",
            "1. Engagement de l’entreprise XXX envers la Santé et la Sécurité\n",
            "Politique de Santé et de Sécurité :\n",
            "l’entreprise XXX adopte une politique proactive en matière de santé et de\n",
            "sécurité, qui vise à prév...\n",
            "\n",
            "\n",
            "Chunk #19:\n",
            "2. Directives de Sécurité au Travail\n",
            "Évaluation des Risques :\n",
            "Des évaluations régulières des risques sont menées pour identifier les\n",
            "dangers potentiels sur le lieu de travail. Des mesures appropriées ...\n",
            "\n",
            "\n",
            "Chunk #20:\n",
            "3. Procédures à Suivre en Cas d'Accident\n",
            "Signalement d'un Accident :\n",
            "Tout accident, même mineur, doit être signalé immédiatement à un\n",
            "superviseur ou au département des Ressources Humaines. Un\n",
            "formulai...\n",
            "\n",
            "\n",
            "Chunk #21:\n",
            "Conclusion\n",
            "La section Santé et Sécurité au Travail de l’entreprise XXX souligne\n",
            "l'importance d'un environnement de travail sûr et sain. En mettant en\n",
            "œuvre des politiques claires, en formant les emplo...\n",
            "\n",
            "\n",
            "Chunk #22:\n",
            "Politique de Télétravail\n",
            "Éligibilité au Télétravail :\n",
            "Tous les employés de l’entreprise XXX peuvent être éligibles au\n",
            "télétravail, sous réserve d’une évaluation de leur poste et de leurs\n",
            "responsabilit...\n",
            "\n",
            "\n",
            "Chunk #23:\n",
            "2. Équilibre entre Vie Professionnelle et Vie Personnelle\n",
            "Flexibilité des Horaires :\n",
            "l’entreprise XXX encourage les employés à organiser leurs horaires\n",
            " de travail de manière à favoriser leur bien-êtr...\n",
            "\n",
            "\n",
            "Chunk #24:\n",
            "Support et Ressources :\n",
            "l’entreprise XXX met à disposition des ressources pour aider les\n",
            " employés à mieux gérer leur équilibre vie professionnelle/vi\n",
            "e personnelle, telles que :\n",
            "Des programmes de bie...\n",
            "\n",
            "\n",
            "Chunk #25:\n",
            "1. Engagement envers la Communication et la Transparence\n",
            "Communication Ouverte :\n",
            "l’entreprise XXX promeut une culture de communication ouverte, où tous\n",
            "les employés sont encouragés à exprimer leurs id...\n",
            "\n",
            "\n",
            "Chunk #26:\n",
            "2. Implication des Employés dans les Décisions\n",
            "Comités et Groupes de Travail :\n",
            "l’entreprise XXX met en place des comités et des groupes de travail\n",
            "composés d'employés de différents niveaux et départem...\n",
            "\n",
            "\n"
          ]
        }
      ],
      "source": [
        "# Regrouper les phrases en chunks en utilisant les indices filtrés\n",
        "chunks = []\n",
        "start_index = 0\n",
        "for index in filtered_indices:\n",
        "    group = sentences[start_index:index + 1]\n",
        "    combined_text = ' '.join(group)\n",
        "    chunks.append(combined_text)\n",
        "    start_index = index + 1\n",
        "\n",
        "# Ajouter le dernier groupe s'il reste des phrases\n",
        "if start_index < len(sentences):\n",
        "    combined_text = ' '.join(sentences[start_index:])\n",
        "    chunks.append(combined_text)\n",
        "\n",
        "# Afficher les chunks\n",
        "for i, chunk in enumerate(chunks):\n",
        "    print(f\"Chunk #{i + 1}:\")\n",
        "    print(chunk[:200] + \"...\")\n",
        "    print(\"\\n\")"
      ]
    },
    {
      "cell_type": "code",
      "execution_count": null,
      "metadata": {
        "id": "91GFL5CfKM1k"
      },
      "outputs": [],
      "source": [
        "def nettoyer_chunk(chunk):\n",
        "    \"\"\"\n",
        "    Nettoie un chunk de texte en supprimant les caractères indésirables, répétitions,\n",
        "    et erreurs de formatage pour obtenir un texte lisible et sémantiquement cohérent.\n",
        "    \"\"\"\n",
        "    # Définir le prompt\n",
        "    prompt = f\"\"\"\n",
        "    Vous êtes un assistant chargé de nettoyer et reformuler des textes extraits de documents PDF.\n",
        "    Voici un extrait à nettoyer :\n",
        "    ---\n",
        "    {chunk}\n",
        "    ---\n",
        "    Nettoyez ce texte en supprimant tous les caractères indésirables comme *, #, -, et autres symboles inutiles.\n",
        "    Reformulez pour corriger les répétitions, améliorer la lisibilité, et garantir que le contenu est sémantiquement clair et fluide.\n",
        "    Fournissez uniquement le texte propre et bien formaté, sans ajouter de nouvelles informations ni altérer le sens du contenu.\n",
        "    \"\"\"\n",
        "    try:\n",
        "        # Appel à l'API OpenAI\n",
        "        response = openai.ChatCompletion.create(\n",
        "            engine=\"gpt-35-turbo\",  # Modèle utilisé\n",
        "            messages=[\n",
        "                {\"role\": \"system\", \"content\": \"Vous êtes un assistant spécialisé dans le nettoyage et la reformulation de texte.\"},\n",
        "                {\"role\": \"user\", \"content\": prompt}\n",
        "            ],\n",
        "            temperature=0,\n",
        "            max_tokens=1000,\n",
        "            frequency_penalty=0,\n",
        "            presence_penalty=0\n",
        "        )\n",
        "        return response['choices'][0]['message']['content']\n",
        "\n",
        "    except openai.error.RateLimitError:\n",
        "        # Gestion de l'erreur de limite de taux\n",
        "        time.sleep(20)\n",
        "        return nettoyer_chunk(chunk)  # Réessayer avec le même chunk\n"
      ]
    },
    {
      "cell_type": "code",
      "execution_count": null,
      "metadata": {
        "id": "UbSEGxaBpYMC"
      },
      "outputs": [],
      "source": [
        "cleaned_chunks=[]\n",
        "for chunk in chunks:\n",
        "  chunk_propre =nettoyer_chunk(chunk)\n",
        "  cleaned_chunks.append(chunk_propre)"
      ]
    },
    {
      "cell_type": "code",
      "execution_count": null,
      "metadata": {
        "colab": {
          "base_uri": "https://localhost:8080/"
        },
        "id": "ZzBZinpjzocI",
        "outputId": "3dbffd05-4206-4978-a8b4-c34851124746"
      },
      "outputs": [
        {
          "name": "stdout",
          "output_type": "stream",
          "text": [
            "Les chunks ont été sauvegardés dans 'chunks.json'\n"
          ]
        }
      ],
      "source": [
        "import json\n",
        "chunks_dict = {f\"chunk_{i}\":   cleaned_chunks[i] for i in range(len( cleaned_chunks))}\n",
        "\n",
        "# Sauvegarder ce dictionnaire dans un fichier JSON\n",
        "with open(\"chunks.json\", \"w\") as file:\n",
        "    json.dump(chunks_dict, file, indent=4)\n",
        "\n",
        "print(\"Les chunks ont été sauvegardés dans 'chunks.json'\")"
      ]
    },
    {
      "cell_type": "markdown",
      "metadata": {
        "id": "Zhk0LbOTx_V7"
      },
      "source": [
        "# **Questions-answers generation**"
      ]
    },
    {
      "cell_type": "code",
      "execution_count": null,
      "metadata": {
        "colab": {
          "base_uri": "https://localhost:8080/"
        },
        "id": "GscG8Ff_3oUT",
        "outputId": "758301bd-1c9d-4d13-97ec-ba4a991805ac"
      },
      "outputs": [
        {
          "name": "stdout",
          "output_type": "stream",
          "text": [
            "genrated chunk 0\n",
            "genrated chunk 1\n",
            "genrated chunk 2\n",
            "genrated chunk 3\n",
            "genrated chunk 4\n",
            "genrated chunk 5\n",
            "genrated chunk 6\n",
            "genrated chunk 7\n",
            "genrated chunk 8\n",
            "genrated chunk 9\n",
            "genrated chunk 10\n",
            "genrated chunk 11\n",
            "genrated chunk 12\n",
            "genrated chunk 13\n",
            "Erreur : Le résultat généré n'est pas un JSON valide. 13\n",
            "genrated chunk 14\n",
            "Erreur : Le résultat généré n'est pas un JSON valide. 14\n",
            "genrated chunk 15\n",
            "genrated chunk 16\n",
            "genrated chunk 17\n",
            "genrated chunk 18\n",
            "genrated chunk 19\n",
            "genrated chunk 20\n",
            "genrated chunk 21\n",
            "genrated chunk 22\n",
            "genrated chunk 23\n",
            "genrated chunk 24\n",
            "genrated chunk 25\n"
          ]
        }
      ],
      "source": [
        "import json\n",
        "\n",
        "answers_concatenated = []\n",
        "questions = []\n",
        "answers = []\n",
        "s=-1\n",
        "for chunk in cleaned_chunks:\n",
        "    s+=1\n",
        "    parsed_result = []\n",
        "    resultat = generer_qr(chunk)\n",
        "    print(\"genrated chunk\", s)\n",
        "\n",
        "    try:\n",
        "        parsed_result = json.loads(resultat)  # Chargement du JSON\n",
        "    except json.JSONDecodeError:\n",
        "        print(\"Erreur : Le résultat généré n'est pas un JSON valide.\", s)\n",
        "\n",
        "    if isinstance(parsed_result, list) and len(parsed_result) > 0:\n",
        "        # Extraction des questions et réponses\n",
        "        chunk_questions = [entry[\"question\"] for entry in parsed_result]\n",
        "        chunk_answers = [entry[\"answer\"] for entry in parsed_result]\n",
        "\n",
        "        questions.extend(chunk_questions)\n",
        "        answers.extend(chunk_answers)\n",
        "        answers_concatenated.append(chunk_answers)\n",
        "    else:\n",
        "        answers_concatenated.append([s])"
      ]
    },
    {
      "cell_type": "code",
      "execution_count": null,
      "metadata": {
        "colab": {
          "base_uri": "https://localhost:8080/"
        },
        "id": "8JQH_SziJ7yg",
        "outputId": "648b6570-6799-440b-8b04-1d73453ac2dc"
      },
      "outputs": [
        {
          "data": {
            "text/plain": [
              "True"
            ]
          },
          "execution_count": 111,
          "metadata": {},
          "output_type": "execute_result"
        }
      ],
      "source": [
        "len(questions) ==  len(answers)"
      ]
    },
    {
      "cell_type": "code",
      "execution_count": null,
      "metadata": {
        "colab": {
          "base_uri": "https://localhost:8080/"
        },
        "id": "9PLXMXxTN5bE",
        "outputId": "34aff389-bf99-4b79-f115-646de6fbdef4"
      },
      "outputs": [
        {
          "name": "stdout",
          "output_type": "stream",
          "text": [
            "[[\"L'entreprise XXX est spécialisée dans le domaine de l'automobile. L'entreprise XXX a été fondée en [année de fondation]. Les bureaux principaux de l'entreprise XXX se trouvent à [localisation des bureaux principaux]. La mission de l'entreprise XXX est de fournir des produits et services de haute technologie qui améliorent la performance des véhicules et garantissent la sécurité des utilisateurs. Les valeurs fondamentales de l'entreprise XXX sont l'innovation et la qualité. L'entreprise XXX encourage la créativité et l'innovation à tous les niveaux de l'organisation et investit continuellement dans la recherche et le développement pour offrir des solutions de pointe. L'engagement envers la qualité est au cœur de toutes les activités de l'entreprise XXX. Chaque produit et service de l'entreprise XXX est conçu pour répondre aux standards les plus élevés afin de garantir la satisfaction des clients.\"], [\"L'entreprise XXX valorise le travail d'équipe et la collaboration. L'entreprise XXX agit avec responsabilité envers ses employés, ses clients et l'environnement. Elle met en place des pratiques durables et veille à ce que ses activités aient un impact positif sur la société. Le respect des personnes et de la diversité est une priorité pour l'entreprise XXX. Elle promeut un environnement de travail inclusif où chacun se sent valorisé et écouté. L'entreprise XXX est engagée envers le développement professionnel de ses employés. Elle offre des opportunités de formation et de développement pour aider chacun à réaliser son potentiel. La politique de congés de l'entreprise XXX vise à garantir un équilibre entre la vie professionnelle et la vie personnelle de ses employés. La politique de congés de l'entreprise XXX définit les différents types de congés disponibles, les procédures à suivre pour les demander, ainsi que les règles d'accumulation et d'utilisation des congés.\"], [\"Chaque employé à temps plein a droit à 25 jours de congés payés par an. Les employés à temps partiel bénéficient d'un calcul au prorata en fonction de leur temps de travail. Les employés peuvent bénéficier de 15 jours de congé maladie par an. Un certificat médical est requis au-delà de 3 jours consécutifs d'absence pour cause de maladie. Les employées ont droit à un congé maternité de 16 semaines, incluant 6 semaines avant la date prévue d'accouchement et 10 semaines après. Les employés masculins ont droit à un congé paternité de 4 semaines. Des congés peuvent être accordés pour des événements personnels tels que le mariage, le décès d'un proche ou d'autres circonstances exceptionnelles. La durée et la nature de ces congés seront déterminées au cas par cas. L'entreprise XXX peut accorder des congés non rémunérés sous certaines conditions, sur demande écrite et après approbation de la direction.\"], [\"La première étape est la soumission de la demande par écrit à son supérieur hiérarchique au moins deux semaines avant la date de départ souhaitée, sauf en cas de maladie. Le supérieur hiérarchique doit prendre en compte les besoins opérationnels du département et l'ancienneté de l'employé lors de l'examen de la demande de congés. L'employé sera informé de la décision concernant sa demande de congés dans un délai de 5 jours ouvrables. Une fois la demande de congés approuvée, l'employé recevra un document de confirmation précisant les dates de congé et les modalités. En cas de congé prolongé (plus de 10 jours), un plan de remplacement sera élaboré en concertation avec le responsable du département.\"], [\"Les jours de congés annuels non utilisés peuvent être reportés à l'année suivante, avec un maximum de 5 jours reportables. Les jours non utilisés seront perdus, sauf en cas de circonstances exceptionnelles telles qu'une maladie prolongée. Les congés doivent être pris de manière raisonnable et planifiée afin de minimiser l'impact sur les opérations de l'entreprise. Les employés sont encouragés à prendre leurs congés pour maintenir un bon équilibre entre leur vie professionnelle et leur bien-être personnel. Le département des Ressources Humaines effectuera un suivi des congés pris et restants par chaque employé. Cette politique de congés a été mise en place pour assurer le bien-être des employés tout en garantissant la continuité des activités de l'entreprise XXX. Nous encourageons tous les employés à prendre pleinement avantage de leur droit aux congés afin de maintenir leur santé physique et mentale.\"], [\"Le processus de recrutement de l'entreprise XXX se compose de plusieurs étapes, allant de la publication des offres d'emploi à l'intégration des nouveaux employés. Les responsables de départements évaluent régulièrement les besoins en personnel. Lorsque des postes deviennent vacants ou que de nouveaux postes sont créés, une demande de recrutement est soumise au département des Ressources Humaines (RH). Le département RH, en collaboration avec le responsable de département, élabore une description de poste détaillée, comprenant le titre du poste, les missions et responsabilités, les qualifications et compétences requises, les conditions de travail, et des informations sur l'entreprise. L'offre d'emploi est publiée sur plusieurs plateformes, notamment le site web de l'entreprise XXX, les réseaux sociaux professionnels (LinkedIn, etc.), les sites d'emploi spécialisés, et les universités et écoles professionnelles. Les candidatures sont reçues par le département RH, qui en assure le traitement. Le département RH procède à une première sélection des candidatures reçues. Cette étape comprend la vérification des qualifications et de l'expérience, ainsi que l'identification des candidats correspondant le mieux aux exigences du poste. Les candidats présélectionnés sont invités à passer un entretien. Les entretiens peuvent être organisés en plusieurs étapes, notamment un entretien téléphonique pour évaluer la motivation et les compétences de base, un entretien en personne avec le responsable de département et éventuellement un membre de l'équipe RH, et des tests de compétences dans certains cas. Avant de prendre une décision finale, le département RH peut procéder à des vérifications de références auprès des employeurs précédents des candidats sélectionnés. La décision finale concernant le candidat retenu est prise en concertation avec le responsable de département. Le candidat choisi reçoit une offre d'emploi formelle.\"], [\"Le département des Ressources Humaines prépare l'intégration du nouvel employé, y compris la préparation d'un contrat de travail et la création d'un dossier d'employé. Le programme d'intégration comprend une présentation de l'entreprise et de ses valeurs, une introduction aux membres de l'équipe et aux différents départements, ainsi qu'une formation sur les outils et les processus utilisés par l'entreprise. Le responsable de département est responsable de s'assurer que le nouvel employé s'adapte bien à son poste après l'intégration. L'objectif de la procédure de recrutement de l'entreprise XXX est d'attirer, sélectionner et intégrer les meilleurs talents pour soutenir sa croissance et son succès. L'engagement envers un processus de recrutement équitable et transparent est essentiel pour maintenir la culture d'entreprise et la satisfaction des employés. La formation et le développement des employés sont des priorités chez l'entreprise XXX. L'entreprise XXX s'engage à fournir des opportunités d'apprentissage continu pour permettre à chaque employé d'améliorer ses compétences techniques et personnelles. La section sur la formation et le développement des employés décrit les opportunités de formation disponibles, la procédure d'inscription et l'évaluation des programmes de formation.\"], [\"L'entreprise XXX propose des formations techniques pour développer les compétences spécifiques liées aux métiers des employés, ainsi que des formations axées sur le développement personnel et professionnel. Les formations techniques proposées par l'entreprise XXX couvrent les domaines de l'ingénierie, du développement logiciel et de la gestion de projet. Les exemples de formations techniques incluent la programmation avancée en C#, Java et Assembleur, ainsi que la formation à l'utilisation d'outils logiciels spécifiques et des séminaires sur les dernières tendances technologiques dans l'industrie automobile. Les formations axées sur le développement personnel et professionnel proposées par l'entreprise XXX abordent des sujets tels que la gestion du temps, la communication efficace, le leadership et la gestion d'équipe, ainsi que la gestion du stress et le bien-être au travail. Les employés peuvent utiliser le budget dédié à la formation continue proposé par l'entreprise XXX selon leurs besoins. Les employés peuvent accéder aux plateformes de formation en ligne proposées par l'entreprise XXX pour suivre des cours à leur propre rythme sur divers sujets. Les employés peuvent trouver des informations détaillées sur les formations proposées par l'entreprise XXX dans un document de formation détaillé accessible via l'intranet de l'entreprise. Ce document inclut les objectifs de la formation, le contenu, le format, la durée et les modalités d'inscription.\"], [\"Les employés peuvent identifier leurs besoins en formation lors des évaluations de performance annuelles ou à tout moment en discutant avec leur supérieur hiérarchique. Les employés intéressés par une formation doivent remplir un formulaire de demande de formation disponible sur l'intranet. Le formulaire doit inclure le nom de la formation, la date et la durée, ainsi que les raisons pour lesquelles la formation est pertinente pour leur développement professionnel. Le supérieur hiérarchique examinera la demande et, si elle est approuvée, la transmettra au département des Ressources Humaines pour finalisation. Une fois la demande validée, le département RH procède à l'inscription de l'employé à la formation et envoie une confirmation par email.\"], [\"Les participants remplissent un questionnaire de satisfaction pour évaluer la qualité de la formation, le contenu, le formateur, et la pertinence de la formation par rapport à leurs attentes. Le département RH analyse les résultats des questionnaires pour identifier les points forts et les axes d'amélioration des programmes de formation. Sur la base des retours d'expérience, l'entreprise XXX ajuste régulièrement ses programmes de formation pour s'assurer qu'ils répondent aux besoins des employés et aux évolutions du marché. Le département RH suit les compétences acquises lors des formations, évaluant leur impact sur la performance des employés et sur l'atteinte des objectifs de l'entreprise. La gestion des performances chez l'entreprise XXX est un processus structuré qui vise à aligner les objectifs individuels des employés avec ceux de l'entreprise, favorisant ainsi une culture de performance, de responsabilisation et de développement continu. Au début de chaque cycle d'évaluation, chaque employé, en collaboration avec son supérieur hiérarchique, établit des objectifs de performance clairs, mesurables et atteignables. Les objectifs individuels doivent être en adéquation avec la vision, les missions et les valeurs de l'entreprise XXX, assurant ainsi que chaque employé contribue au succès global de l'entreprise. Les employés sont encouragés à suivre régulièrement l'avancement de leurs objectifs. Des réunions périodiques avec leur supérieur hiérarchique permettent d'ajuster les objectifs si nécessaire.\"], [\"Le processus d'évaluation annuelle de l'entreprise XXX pour ses employés comprend une auto-évaluation et une évaluation par le supérieur hiérarchique. L'auto-évaluation dans le processus d'évaluation annuelle de l'entreprise XXX permet à chaque employé de réfléchir à ses réalisations, ses défis et ses progrès par rapport aux objectifs fixés. L'évaluation par le supérieur hiérarchique dans le processus d'évaluation annuelle de l'entreprise XXX examine la performance de l'employé en tenant compte des résultats, des compétences et des comportements observés. L'entreprise XXX encourage un feedback régulier tout au long de l'année en organisant des réunions informelles pour discuter des performances, des retours sur des projets spécifiques ou des tâches accomplies, ainsi que l'utilisation d'outils numériques pour faciliter le partage de feedback constructif. Le rapport de performance rédigé après chaque évaluation documente les réalisations de l'employé, les domaines d'amélioration et les objectifs pour l'année suivante.\"], [\"La mise en place de Plans de Développement Individuel (PDI) est une étape importante de la gestion des performances chez l'entreprise XXX. Suite à l'évaluation de performance, les besoins de développement personnel et professionnel de chaque employé sont identifiés, tels que des compétences techniques à renforcer ou des formations à suivre pour développer des compétences spécifiques. En concertation avec le supérieur hiérarchique, chaque employé élabore un PDI qui doit comprendre les objectifs de développement à court et moyen terme, les actions à entreprendre pour atteindre ces objectifs (formations, mentorat, projets spéciaux, etc.) et un calendrier pour la mise en œuvre du plan. Le suivi des progrès réalisés dans le cadre du PDI est effectué lors des réunions régulières entre l'employé et son supérieur hiérarchique, permettant d'ajuster le plan en fonction des évolutions des besoins et des objectifs de l'entreprise. La conduite des employés est également essentielle pour maintenir un environnement de travail respectueux, collaboratif et productif chez l'entreprise XXX. Le respect des normes de conduite contribue non seulement à l'harmonie des relations interpersonnelles, mais également à l'image et à la réputation de l'entreprise. En définissant des objectifs clairs, en offrant un feedback régulier et en établissant des plans de développement individuels, l'entreprise XXX s'assure que ses employés sont engagés, motivés et préparés à relever les défis futurs.\"], [\"Les principes généraux sont l'intégrité, le respect et le professionnalisme dans toutes les interactions, internes ou externes, et doivent être respectés par tous les employés, quel que soit leur niveau hiérarchique. Les employés doivent traiter leurs collègues avec respect, en valorisant la diversité et en évitant les comportements discriminatoires, harcelants ou intimidants. Chaque employé est responsable de ses actions et doit agir de manière honnête et éthique. Les conflits d'intérêts doivent être évités et signalés. Les échanges doivent être effectués de manière constructive et professionnelle, en évitant les propos offensants ou inappropriés. Les employés sont encouragés à contribuer positivement à la culture de l'entreprise en participant aux initiatives et événements organisés par l’entreprise XXX.\"], [\"Les violations du code de conduite qui peuvent entraîner des sanctions incluent, mais ne se limitent pas à : harcèlement ou discrimination, conduite inappropriée ou violente, vol ou détournement de ressources de l'entreprise, non-respect des politiques de sécurité. Une violation du code de conduite peut inclure, mais ne se limite pas à : harcèlement ou discrimination, conduite inappropriée ou violente, vol ou détournement de ressources de l'entreprise, non-respect des politiques de sécurité. En cas de non-respect des règles, des sanctions seront appliquées.\"], [\"L'entreprise XXX peut appliquer des sanctions pouvant inclure un avertissement verbal, un avertissement écrit, une suspension temporaire ou, dans les cas les plus graves, un licenciement. Toute action disciplinaire sera menée de manière équitable et transparente, avec une enquête préalable pour examiner les faits avant toute décision.\"], [\"L'entreprise XXX encourage les employés à signaler tout comportement inapproprié pour maintenir un environnement de travail sain et respectueux. Un mécanisme de signalement confidentiel est mis en place pour protéger les employés. Les employés peuvent signaler des comportements inappropriés en utilisant un formulaire de signalement anonyme disponible sur l'intranet, un email dédié à l'équipe des Ressources Humaines ou un entretien direct avec le responsable RH. L'entreprise XXX prendra toutes les mesures nécessaires pour enquêter sur les signalements et prendre les mesures appropriées pour résoudre les problèmes signalés.\"], [\"L'entreprise XXX assure la protection de ses employés qui signalent des comportements inappropriés contre toute forme de représailles. Les signalements seront traités de manière confidentielle dans la mesure du possible. Le suivi des signalements sera effectué avec sérieux et diligence, et des mesures appropriées seront prises en fonction des résultats de l'enquête. La section sur la conduite des employés est essentielle pour instaurer un climat de confiance et de respect au sein de l'entreprise XXX. En définissant clairement les attentes en matière de conduite, en établissant des sanctions pour les violations, et en fournissant des procédures de signalement accessibles, l'entreprise s'engage à maintenir un environnement de travail sain et respectueux pour tous ses employés. Chez l'entreprise XXX, la santé et la sécurité de tous les employés sont d'une importance capitale. L'entreprise s'engage à créer un environnement de travail sûr et sain en respectant toutes les réglementations en matière de santé et de sécurité au travail. Cela contribue non seulement au bien-être des employés, mais aussi à l'efficacité globale de l'entreprise.\"], [\"La politique de santé et de sécurité de l'entreprise XXX est proactive et vise à prévenir les accidents et les maladies professionnelles. Elle s'efforce de minimiser les risques grâce à une gestion rigoureuse et une formation adéquate. La direction de l'entreprise XXX est responsable de la mise en œuvre et de l'application de la politique de santé et de sécurité. Elle s'engage à fournir les ressources nécessaires pour garantir la santé et la sécurité au travail. Des audits réguliers et des évaluations des risques sont réalisés pour identifier et atténuer les dangers potentiels. L'entreprise XXX promeut une culture de sécurité où chaque employé est encouragé à prendre la responsabilité de sa propre sécurité et de celle de ses collègues. Cela inclut la sensibilisation aux risques et l'engagement à suivre les directives de sécurité.\"], [\"L'évaluation régulière des risques est essentielle pour identifier les dangers potentiels sur le lieu de travail. Des mesures appropriées sont mises en place pour réduire ou éliminer les risques sur le lieu de travail. L'entreprise XXX fournit à tous les employés les équipements de protection individuelle (EPI) nécessaires en fonction de leur environnement de travail, tels que des casques de protection, des gants, des lunettes de sécurité et des chaussures de sécurité. Oui, les employés sont tenus de porter les équipements de protection individuelle (EPI) fournis par l'entreprise XXX lorsque cela est requis. Ces formations couvrent des sujets tels que la prévention des risques, l'utilisation correcte des équipements et les procédures d'urgence.\"], [\"Tout accident, même mineur, doit être signalé immédiatement à un superviseur ou au département des Ressources Humaines. Il est impératif de remplir un formulaire d'accident dans les plus brefs délais. En cas de blessure, les employés doivent recevoir une assistance médicale immédiate. L'entreprise XXX dispose d'un protocole pour les soins médicaux, y compris l'accès à des services d'urgence si nécessaire. Une enquête sera menée pour déterminer les causes de l'accident. Cela permettra de mettre en place des mesures préventives afin d'éviter la répétition de tels incidents à l'avenir. L'entreprise XXX s'engage à assurer le suivi des employés blessés, en veillant à leur réhabilitation et leur réintégration au travail lorsque cela est possible. Des ajustements peuvent être apportés à leur poste de travail pour faciliter leur retour.\"], [\"Elle souligne l'importance d'un environnement de travail sûr et sain. En mettant en place des politiques claires, en formant les employés et en agissant rapidement en cas d'incident. Elle met en place une politique de télétravail flexible pour répondre aux besoins des employés tout en maintenant la productivité et l'engagement envers les objectifs de l'entreprise.\"], [\"Tous les employés de l'entreprise XXX peuvent être éligibles au télétravail, sous réserve d'une évaluation de leur poste et de leurs responsabilités. Les critères d'éligibilité incluent la nature des tâches pouvant être effectuées à distance, l'autonomie et la fiabilité de l'employé, ainsi que les besoins de l'équipe et de l'entreprise. Les modalités du télétravail sont déterminées en concertation entre le manager et l'employé. Cela inclut le nombre de jours de télétravail par semaine, les horaires de travail, ainsi que les outils et ressources nécessaires pour travailler efficacement à distance. L'entreprise XXX fournit les équipements nécessaires tels que l'ordinateur et les logiciels pour assurer un travail efficace depuis le domicile. Des outils de communication tels que la messagerie instantanée et les vidéoconférences sont mis en place pour faciliter les échanges entre les employés en télétravail. La performance des employés en télétravail est évaluée régulièrement en se basant sur des critères clairement définis tels que les objectifs de performance, le respect des délais et la qualité du travail.\"], [\"Les options de flexibilité offertes par l'entreprise XXX incluent la possibilité d'adapter les heures de début et de fin de travail ainsi que la gestion des pauses pour les activités personnelles. L'entreprise XXX recommande à ses employés de respecter leurs heures de travail et de ne pas travailler au-delà de celles-ci, ainsi que de se déconnecter complètement pendant les périodes de congés ou de repos.\"], [\"L'entreprise XXX met à disposition des programmes de bien-être tels que le yoga et la méditation, ainsi que des ateliers de gestion du temps et du stress. L'entreprise XXX organise des enquêtes et des sessions de feedback régulières pour améliorer continuellement ces politiques. En offrant des options de télétravail et en encourageant un équilibre sain entre vie professionnelle et vie personnelle, l'entreprise cherche à créer un environnement de travail épanouissant qui favorise la productivité et la satisfaction des employés. Les relations sociales sont fondamentales pour favoriser un environnement de travail positif et collaboratif, et pour créer une culture d'appartenance et d'engagement au sein de l'entreprise. L'entreprise XXX s'engage à établir une communication ouverte et transparente, et à impliquer ses employés dans les processus décisionnels.\"], [\"L'entreprise XXX favorise une culture de communication ouverte où tous les employés sont encouragés à partager leurs idées, préoccupations et suggestions. Des réunions régulières entre les équipes et la direction ainsi que des canaux de communication diversifiés sont mis en place. L'entreprise s'engage à diffuser des informations pertinentes sur la stratégie, les performances et les changements organisationnels auprès de tous les employés. Des mises à jour régulières sur les objectifs de l'entreprise et l'avancement des projets en cours ainsi que des sessions d'information où la direction explique les décisions importantes et leur impact sur l'organisation sont organisées. L'entreprise XXX valorise le feedback constructif et encourage les employés à participer à des enquêtes ainsi qu'à des sessions de retour d'expérience. Les résultats obtenus sont utilisés pour améliorer les politiques et pratiques de l'entreprise.\"], [\"L'entreprise XXX met en place des comités et des groupes de travail composés d'employés de différents niveaux et départements pour traiter des sujets spécifiques tels que la santé et la sécurité, la diversité et le développement durable. Ces groupes sont chargés de faire des recommandations à la direction et de s'assurer que la voix des employés est entendue dans les décisions stratégiques. Des sondages réguliers sont réalisés pour recueillir l'avis des employés sur divers sujets tels que les politiques RH, l'environnement de travail et les projets à venir. Les résultats sont partagés avec tous les employés et des actions sont mises en place en fonction des retours. L'entreprise encourage l'innovation en impliquant les employés dans des programmes de suggestion où ils peuvent soumettre leurs idées pour améliorer les processus ou les produits. Les idées retenues peuvent être récompensées et mises en œuvre. Des formations sont proposées pour développer les compétences des employés en matière de leadership et de participation, les préparant ainsi à prendre part activement aux décisions qui affectent leur travail et l'entreprise. En favorisant une communication ouverte et en impliquant les employés dans les processus décisionnels, l'entreprise XXX construit une culture d'appartenance et de responsabilité, essentielle pour le succès collectif de l'organisation.\"]]\n"
          ]
        }
      ],
      "source": [
        "# Transformation\n",
        "answers_per_chunk = [[\" \".join(chunk)] for chunk in answers_concatenated]\n",
        "\n",
        "print(answers_per_chunk)"
      ]
    },
    {
      "cell_type": "markdown",
      "metadata": {
        "id": "VD956v6AK5iM"
      },
      "source": [
        "# **Evaluation**"
      ]
    },
    {
      "cell_type": "code",
      "execution_count": null,
      "metadata": {
        "colab": {
          "base_uri": "https://localhost:8080/"
        },
        "id": "ZtP-manIKPjF",
        "outputId": "a742314a-0b31-45d0-a88a-4686f84ee406"
      },
      "outputs": [
        {
          "name": "stdout",
          "output_type": "stream",
          "text": [
            "Requirement already satisfied: nltk in /usr/local/lib/python3.10/dist-packages (3.9.1)\n",
            "Collecting rouge-score\n",
            "  Downloading rouge_score-0.1.2.tar.gz (17 kB)\n",
            "  Preparing metadata (setup.py) ... \u001b[?25l\u001b[?25hdone\n",
            "Requirement already satisfied: click in /usr/local/lib/python3.10/dist-packages (from nltk) (8.1.7)\n",
            "Requirement already satisfied: joblib in /usr/local/lib/python3.10/dist-packages (from nltk) (1.4.2)\n",
            "Requirement already satisfied: regex>=2021.8.3 in /usr/local/lib/python3.10/dist-packages (from nltk) (2024.11.6)\n",
            "Requirement already satisfied: tqdm in /usr/local/lib/python3.10/dist-packages (from nltk) (4.67.1)\n",
            "Requirement already satisfied: absl-py in /usr/local/lib/python3.10/dist-packages (from rouge-score) (1.4.0)\n",
            "Requirement already satisfied: numpy in /usr/local/lib/python3.10/dist-packages (from rouge-score) (1.26.4)\n",
            "Requirement already satisfied: six>=1.14.0 in /usr/local/lib/python3.10/dist-packages (from rouge-score) (1.17.0)\n",
            "Building wheels for collected packages: rouge-score\n",
            "  Building wheel for rouge-score (setup.py) ... \u001b[?25l\u001b[?25hdone\n",
            "  Created wheel for rouge-score: filename=rouge_score-0.1.2-py3-none-any.whl size=24935 sha256=d6ce00ee30a011ff9656affddc2b74156ad2afb433276d60f07b93d1aecb35b3\n",
            "  Stored in directory: /root/.cache/pip/wheels/5f/dd/89/461065a73be61a532ff8599a28e9beef17985c9e9c31e541b4\n",
            "Successfully built rouge-score\n",
            "Installing collected packages: rouge-score\n",
            "Successfully installed rouge-score-0.1.2\n"
          ]
        }
      ],
      "source": [
        "pip install nltk rouge-score"
      ]
    },
    {
      "cell_type": "code",
      "execution_count": null,
      "metadata": {
        "colab": {
          "base_uri": "https://localhost:8080/"
        },
        "id": "fDzcSrW8N870",
        "outputId": "a0bef0e8-f263-47dc-b49c-7619dc603e69"
      },
      "outputs": [
        {
          "name": "stderr",
          "output_type": "stream",
          "text": [
            "[nltk_data] Downloading package punkt to /root/nltk_data...\n",
            "[nltk_data]   Unzipping tokenizers/punkt.zip.\n",
            "[nltk_data] Downloading package punkt_tab to /root/nltk_data...\n",
            "[nltk_data]   Unzipping tokenizers/punkt_tab.zip.\n"
          ]
        },
        {
          "data": {
            "text/plain": [
              "True"
            ]
          },
          "execution_count": 114,
          "metadata": {},
          "output_type": "execute_result"
        }
      ],
      "source": [
        "import nltk\n",
        "from nltk.translate.bleu_score import sentence_bleu\n",
        "from rouge_score import rouge_scorer\n",
        "\n",
        "\n",
        "nltk.download('punkt')\n",
        "nltk.download('punkt_tab')"
      ]
    },
    {
      "cell_type": "code",
      "execution_count": null,
      "metadata": {
        "colab": {
          "base_uri": "https://localhost:8080/"
        },
        "id": "hQBnRKsyOAi0",
        "outputId": "ecdca60d-e3bd-4536-90e7-d6de3dceb305"
      },
      "outputs": [
        {
          "data": {
            "text/plain": [
              "26"
            ]
          },
          "execution_count": 115,
          "metadata": {},
          "output_type": "execute_result"
        }
      ],
      "source": [
        "# Transformation\n",
        "chunks_listed = [[chunk] for chunk in chunks]\n",
        "len(chunks_listed)"
      ]
    },
    {
      "cell_type": "markdown",
      "metadata": {
        "id": "NviVlN2LZeve"
      },
      "source": [
        "old data"
      ]
    },
    {
      "cell_type": "code",
      "execution_count": null,
      "metadata": {
        "colab": {
          "base_uri": "https://localhost:8080/"
        },
        "id": "eLA_gACoV-M2",
        "outputId": "f4b9a28b-e490-400a-88d4-a419af1f93cb"
      },
      "outputs": [
        {
          "name": "stdout",
          "output_type": "stream",
          "text": [
            "BLEU Score for chunk 1 (NLTK): 3.01\n",
            "BLEU Score for chunk 2 (NLTK): 25.14\n",
            "BLEU Score for chunk 3 (NLTK): 66.65\n",
            "BLEU Score for chunk 4 (NLTK): 59.78\n",
            "BLEU Score for chunk 5 (NLTK): 34.00\n",
            "BLEU Score for chunk 6 (NLTK): 40.37\n",
            "BLEU Score for chunk 7 (NLTK): 40.35\n",
            "BLEU Score for chunk 8 (NLTK): 58.99\n",
            "BLEU Score for chunk 9 (NLTK): 61.70\n",
            "BLEU Score for chunk 10 (NLTK): 27.04\n",
            "BLEU Score for chunk 11 (NLTK): 31.04\n",
            "BLEU Score for chunk 12 (NLTK): 67.76\n",
            "BLEU Score for chunk 13 (NLTK): 62.84\n",
            "BLEU Score for chunk 14 (NLTK): 46.23\n",
            "BLEU Score for chunk 15 (NLTK): 36.08\n",
            "BLEU Score for chunk 16 (NLTK): 64.14\n",
            "BLEU Score for chunk 17 (NLTK): 66.52\n",
            "BLEU Score for chunk 18 (NLTK): 73.89\n",
            "BLEU Score for chunk 19 (NLTK): 30.67\n",
            "BLEU Score for chunk 20 (NLTK): 82.43\n",
            "BLEU Score for chunk 21 (NLTK): 27.05\n",
            "BLEU Score for chunk 22 (NLTK): 80.73\n",
            "BLEU Score for chunk 23 (NLTK): 53.92\n",
            "BLEU Score for chunk 24 (NLTK): 19.03\n",
            "BLEU Score for chunk 25 (NLTK): 76.10\n",
            "BLEU Score for chunk 26 (NLTK): 82.54\n",
            "ROUGE-1 F1 Score for chunk 1: 0.40\n",
            "ROUGE-L F1 Score for chunk 1: 0.35\n",
            "ROUGE-1 F1 Score for chunk 2: 0.64\n",
            "ROUGE-L F1 Score for chunk 2: 0.59\n",
            "ROUGE-1 F1 Score for chunk 3: 0.90\n",
            "ROUGE-L F1 Score for chunk 3: 0.81\n",
            "ROUGE-1 F1 Score for chunk 4: 0.82\n",
            "ROUGE-L F1 Score for chunk 4: 0.82\n",
            "ROUGE-1 F1 Score for chunk 5: 0.68\n",
            "ROUGE-L F1 Score for chunk 5: 0.68\n",
            "ROUGE-1 F1 Score for chunk 6: 0.81\n",
            "ROUGE-L F1 Score for chunk 6: 0.75\n",
            "ROUGE-1 F1 Score for chunk 7: 0.76\n",
            "ROUGE-L F1 Score for chunk 7: 0.74\n",
            "ROUGE-1 F1 Score for chunk 8: 0.85\n",
            "ROUGE-L F1 Score for chunk 8: 0.76\n",
            "ROUGE-1 F1 Score for chunk 9: 0.86\n",
            "ROUGE-L F1 Score for chunk 9: 0.86\n",
            "ROUGE-1 F1 Score for chunk 10: 0.69\n",
            "ROUGE-L F1 Score for chunk 10: 0.60\n",
            "ROUGE-1 F1 Score for chunk 11: 0.73\n",
            "ROUGE-L F1 Score for chunk 11: 0.62\n",
            "ROUGE-1 F1 Score for chunk 12: 0.92\n",
            "ROUGE-L F1 Score for chunk 12: 0.60\n",
            "ROUGE-1 F1 Score for chunk 13: 0.91\n",
            "ROUGE-L F1 Score for chunk 13: 0.82\n",
            "ROUGE-1 F1 Score for chunk 14: 0.85\n",
            "ROUGE-L F1 Score for chunk 14: 0.85\n",
            "ROUGE-1 F1 Score for chunk 15: 0.74\n",
            "ROUGE-L F1 Score for chunk 15: 0.73\n",
            "ROUGE-1 F1 Score for chunk 16: 0.90\n",
            "ROUGE-L F1 Score for chunk 16: 0.90\n",
            "ROUGE-1 F1 Score for chunk 17: 0.90\n",
            "ROUGE-L F1 Score for chunk 17: 0.88\n",
            "ROUGE-1 F1 Score for chunk 18: 0.92\n",
            "ROUGE-L F1 Score for chunk 18: 0.88\n",
            "ROUGE-1 F1 Score for chunk 19: 0.83\n",
            "ROUGE-L F1 Score for chunk 19: 0.74\n",
            "ROUGE-1 F1 Score for chunk 20: 0.93\n",
            "ROUGE-L F1 Score for chunk 20: 0.93\n",
            "ROUGE-1 F1 Score for chunk 21: 0.63\n",
            "ROUGE-L F1 Score for chunk 21: 0.63\n",
            "ROUGE-1 F1 Score for chunk 22: 0.95\n",
            "ROUGE-L F1 Score for chunk 22: 0.95\n",
            "ROUGE-1 F1 Score for chunk 23: 0.88\n",
            "ROUGE-L F1 Score for chunk 23: 0.88\n",
            "ROUGE-1 F1 Score for chunk 24: 0.64\n",
            "ROUGE-L F1 Score for chunk 24: 0.56\n",
            "ROUGE-1 F1 Score for chunk 25: 0.95\n",
            "ROUGE-L F1 Score for chunk 25: 0.95\n",
            "ROUGE-1 F1 Score for chunk 26: 0.96\n",
            "ROUGE-L F1 Score for chunk 26: 0.95\n",
            "Average BLEU Score: 50.69\n",
            "Average ROUGE-1 F1 Score: 0.81\n",
            "Average ROUGE-L F1 Score: 0.76\n"
          ]
        }
      ],
      "source": [
        "import nltk\n",
        "from nltk.translate.bleu_score import sentence_bleu\n",
        "from rouge_score import rouge_scorer\n",
        "\n",
        "# Example chunks_listed (reference) and answers_per_chunk (candidate)\n",
        "reference = chunks_listed  # List of reference sentences\n",
        "candidate = answers_per_chunk  # List of candidate sentences\n",
        "\n",
        "# Tokenize the reference and candidate\n",
        "reference_tokenized = [nltk.word_tokenize(ref[0]) for ref in reference]  # ref[0] because each element of reference is a sublist\n",
        "candidate_tokenized = [nltk.word_tokenize(cand[0]) for cand in candidate]  # cand[0] because each element of candidate is a sublist\n",
        "\n",
        "# BLEU Score Calculation for each chunk\n",
        "bleu_scores = []  # List to store BLEU scores\n",
        "for i in range(len(reference)):\n",
        "    bleu_score = sentence_bleu([reference_tokenized[i]], candidate_tokenized[i])\n",
        "    bleu_scores.append(bleu_score)\n",
        "    print(f\"BLEU Score for chunk {i+1} (NLTK): {bleu_score * 100:.2f}\")\n",
        "\n",
        "\n",
        "\n",
        "# ROUGE Score Calculation for each chunk\n",
        "rouge1_scores = []  # List to store ROUGE-1 F1 scores\n",
        "rougeL_scores = []  # List to store ROUGE-L F1 scores\n",
        "scorer = rouge_scorer.RougeScorer(['rouge1', 'rougeL'], use_stemmer=True)\n",
        "\n",
        "for i in range(len(reference)):\n",
        "    scores = scorer.score(reference[i][0], candidate[i][0])  # reference[i][0] and candidate[i][0] because they are sublists\n",
        "    rouge1_scores.append(scores['rouge1'].fmeasure)\n",
        "    rougeL_scores.append(scores['rougeL'].fmeasure)\n",
        "    print(f\"ROUGE-1 F1 Score for chunk {i+1}: {scores['rouge1'].fmeasure:.2f}\")\n",
        "    print(f\"ROUGE-L F1 Score for chunk {i+1}: {scores['rougeL'].fmeasure:.2f}\")\n",
        "\n",
        "# Calculate the average BLEU score\n",
        "average_bleu = sum(bleu_scores) / len(bleu_scores)\n",
        "print(f\"Average BLEU Score: {average_bleu * 100:.2f}\")\n",
        "# Calculate the average ROUGE-1 F1 and ROUGE-L F1 scores\n",
        "average_rouge1 = sum(rouge1_scores) / len(rouge1_scores)\n",
        "average_rougeL = sum(rougeL_scores) / len(rougeL_scores)\n",
        "print(f\"Average ROUGE-1 F1 Score: {average_rouge1:.2f}\")\n",
        "print(f\"Average ROUGE-L F1 Score: {average_rougeL:.2f}\")\n"
      ]
    },
    {
      "cell_type": "markdown",
      "metadata": {
        "id": "MYM4prCuZh85"
      },
      "source": [
        "new data"
      ]
    },
    {
      "cell_type": "code",
      "execution_count": null,
      "metadata": {
        "colab": {
          "base_uri": "https://localhost:8080/"
        },
        "id": "vsGGmmakZkMX",
        "outputId": "649827d7-dbe7-4f75-f814-eac8167b69ae"
      },
      "outputs": [
        {
          "name": "stdout",
          "output_type": "stream",
          "text": [
            "BLEU Score for chunk 1 (NLTK): 20.80\n",
            "BLEU Score for chunk 2 (NLTK): 39.85\n",
            "BLEU Score for chunk 3 (NLTK): 59.06\n",
            "BLEU Score for chunk 4 (NLTK): 48.71\n",
            "BLEU Score for chunk 5 (NLTK): 66.02\n",
            "BLEU Score for chunk 6 (NLTK): 50.33\n",
            "BLEU Score for chunk 7 (NLTK): 41.80\n",
            "BLEU Score for chunk 8 (NLTK): 34.20\n",
            "BLEU Score for chunk 9 (NLTK): 69.03\n",
            "BLEU Score for chunk 10 (NLTK): 41.04\n",
            "BLEU Score for chunk 11 (NLTK): 48.11\n",
            "BLEU Score for chunk 12 (NLTK): 63.04\n",
            "BLEU Score for chunk 13 (NLTK): 53.53\n",
            "BLEU Score for chunk 14 (NLTK): 24.24\n",
            "BLEU Score for chunk 15 (NLTK): 43.93\n",
            "BLEU Score for chunk 16 (NLTK): 50.18\n",
            "BLEU Score for chunk 17 (NLTK): 69.25\n",
            "BLEU Score for chunk 18 (NLTK): 60.76\n",
            "BLEU Score for chunk 19 (NLTK): 38.63\n",
            "BLEU Score for chunk 20 (NLTK): 72.67\n",
            "BLEU Score for chunk 21 (NLTK): 31.25\n",
            "BLEU Score for chunk 22 (NLTK): 40.50\n",
            "BLEU Score for chunk 23 (NLTK): 29.01\n",
            "BLEU Score for chunk 24 (NLTK): 31.39\n",
            "BLEU Score for chunk 25 (NLTK): 48.10\n",
            "BLEU Score for chunk 26 (NLTK): 63.94\n",
            "ROUGE-1 F1 Score for chunk 1: 0.64\n",
            "ROUGE-L F1 Score for chunk 1: 0.57\n",
            "ROUGE-1 F1 Score for chunk 2: 0.76\n",
            "ROUGE-L F1 Score for chunk 2: 0.71\n",
            "ROUGE-1 F1 Score for chunk 3: 0.84\n",
            "ROUGE-L F1 Score for chunk 3: 0.79\n",
            "ROUGE-1 F1 Score for chunk 4: 0.85\n",
            "ROUGE-L F1 Score for chunk 4: 0.71\n",
            "ROUGE-1 F1 Score for chunk 5: 0.88\n",
            "ROUGE-L F1 Score for chunk 5: 0.87\n",
            "ROUGE-1 F1 Score for chunk 6: 0.85\n",
            "ROUGE-L F1 Score for chunk 6: 0.82\n",
            "ROUGE-1 F1 Score for chunk 7: 0.82\n",
            "ROUGE-L F1 Score for chunk 7: 0.72\n",
            "ROUGE-1 F1 Score for chunk 8: 0.75\n",
            "ROUGE-L F1 Score for chunk 8: 0.58\n",
            "ROUGE-1 F1 Score for chunk 9: 0.91\n",
            "ROUGE-L F1 Score for chunk 9: 0.91\n",
            "ROUGE-1 F1 Score for chunk 10: 0.76\n",
            "ROUGE-L F1 Score for chunk 10: 0.73\n",
            "ROUGE-1 F1 Score for chunk 11: 0.83\n",
            "ROUGE-L F1 Score for chunk 11: 0.76\n",
            "ROUGE-1 F1 Score for chunk 12: 0.89\n",
            "ROUGE-L F1 Score for chunk 12: 0.69\n",
            "ROUGE-1 F1 Score for chunk 13: 0.85\n",
            "ROUGE-L F1 Score for chunk 13: 0.83\n",
            "ROUGE-1 F1 Score for chunk 14: 0.68\n",
            "ROUGE-L F1 Score for chunk 14: 0.58\n",
            "ROUGE-1 F1 Score for chunk 15: 0.80\n",
            "ROUGE-L F1 Score for chunk 15: 0.78\n",
            "ROUGE-1 F1 Score for chunk 16: 0.76\n",
            "ROUGE-L F1 Score for chunk 16: 0.70\n",
            "ROUGE-1 F1 Score for chunk 17: 0.92\n",
            "ROUGE-L F1 Score for chunk 17: 0.87\n",
            "ROUGE-1 F1 Score for chunk 18: 0.89\n",
            "ROUGE-L F1 Score for chunk 18: 0.84\n",
            "ROUGE-1 F1 Score for chunk 19: 0.79\n",
            "ROUGE-L F1 Score for chunk 19: 0.70\n",
            "ROUGE-1 F1 Score for chunk 20: 0.90\n",
            "ROUGE-L F1 Score for chunk 20: 0.90\n",
            "ROUGE-1 F1 Score for chunk 21: 0.66\n",
            "ROUGE-L F1 Score for chunk 21: 0.66\n",
            "ROUGE-1 F1 Score for chunk 22: 0.86\n",
            "ROUGE-L F1 Score for chunk 22: 0.81\n",
            "ROUGE-1 F1 Score for chunk 23: 0.72\n",
            "ROUGE-L F1 Score for chunk 23: 0.69\n",
            "ROUGE-1 F1 Score for chunk 24: 0.74\n",
            "ROUGE-L F1 Score for chunk 24: 0.63\n",
            "ROUGE-1 F1 Score for chunk 25: 0.81\n",
            "ROUGE-L F1 Score for chunk 25: 0.79\n",
            "ROUGE-1 F1 Score for chunk 26: 0.89\n",
            "ROUGE-L F1 Score for chunk 26: 0.88\n",
            "Average BLEU Score: 47.67\n",
            "Average ROUGE-1 F1 Score: 0.81\n",
            "Average ROUGE-L F1 Score: 0.75\n"
          ]
        }
      ],
      "source": [
        "import nltk\n",
        "from nltk.translate.bleu_score import sentence_bleu\n",
        "from rouge_score import rouge_scorer\n",
        "\n",
        "# Example chunks_listed (reference) and answers_per_chunk (candidate)\n",
        "reference = chunks_listed  # List of reference sentences\n",
        "candidate = answers_per_chunk  # List of candidate sentences\n",
        "\n",
        "# Tokenize the reference and candidate\n",
        "reference_tokenized = [nltk.word_tokenize(ref[0]) for ref in reference]  # ref[0] because each element of reference is a sublist\n",
        "candidate_tokenized = [nltk.word_tokenize(cand[0]) for cand in candidate]  # cand[0] because each element of candidate is a sublist\n",
        "\n",
        "# BLEU Score Calculation for each chunk\n",
        "bleu_scores = []  # List to store BLEU scores\n",
        "for i in range(len(reference)):\n",
        "    bleu_score = sentence_bleu([reference_tokenized[i]], candidate_tokenized[i])\n",
        "    bleu_scores.append(bleu_score)\n",
        "    print(f\"BLEU Score for chunk {i+1} (NLTK): {bleu_score * 100:.2f}\")\n",
        "\n",
        "\n",
        "\n",
        "# ROUGE Score Calculation for each chunk\n",
        "rouge1_scores = []  # List to store ROUGE-1 F1 scores\n",
        "rougeL_scores = []  # List to store ROUGE-L F1 scores\n",
        "scorer = rouge_scorer.RougeScorer(['rouge1', 'rougeL'], use_stemmer=True)\n",
        "\n",
        "for i in range(len(reference)):\n",
        "    scores = scorer.score(reference[i][0], candidate[i][0])  # reference[i][0] and candidate[i][0] because they are sublists\n",
        "    rouge1_scores.append(scores['rouge1'].fmeasure)\n",
        "    rougeL_scores.append(scores['rougeL'].fmeasure)\n",
        "    print(f\"ROUGE-1 F1 Score for chunk {i+1}: {scores['rouge1'].fmeasure:.2f}\")\n",
        "    print(f\"ROUGE-L F1 Score for chunk {i+1}: {scores['rougeL'].fmeasure:.2f}\")\n",
        "\n",
        "# Calculate the average BLEU score\n",
        "average_bleu = sum(bleu_scores) / len(bleu_scores)\n",
        "print(f\"Average BLEU Score: {average_bleu * 100:.2f}\")\n",
        "# Calculate the average ROUGE-1 F1 and ROUGE-L F1 scores\n",
        "average_rouge1 = sum(rouge1_scores) / len(rouge1_scores)\n",
        "average_rougeL = sum(rougeL_scores) / len(rougeL_scores)\n",
        "print(f\"Average ROUGE-1 F1 Score: {average_rouge1:.2f}\")\n",
        "print(f\"Average ROUGE-L F1 Score: {average_rougeL:.2f}\")\n"
      ]
    },
    {
      "cell_type": "markdown",
      "metadata": {
        "id": "KRnQk3qeWgym"
      },
      "source": [
        "# **structuration des données**"
      ]
    },
    {
      "cell_type": "code",
      "execution_count": null,
      "metadata": {
        "colab": {
          "base_uri": "https://localhost:8080/"
        },
        "id": "XdZDcgG5W_EU",
        "outputId": "ea4583c5-c093-4873-fd90-bf07dc33b909"
      },
      "outputs": [
        {
          "name": "stdout",
          "output_type": "stream",
          "text": [
            "Collecting datasets\n",
            "  Downloading datasets-3.2.0-py3-none-any.whl.metadata (20 kB)\n",
            "Requirement already satisfied: filelock in /usr/local/lib/python3.10/dist-packages (from datasets) (3.16.1)\n",
            "Requirement already satisfied: numpy>=1.17 in /usr/local/lib/python3.10/dist-packages (from datasets) (1.26.4)\n",
            "Requirement already satisfied: pyarrow>=15.0.0 in /usr/local/lib/python3.10/dist-packages (from datasets) (17.0.0)\n",
            "Collecting dill<0.3.9,>=0.3.0 (from datasets)\n",
            "  Downloading dill-0.3.8-py3-none-any.whl.metadata (10 kB)\n",
            "Requirement already satisfied: pandas in /usr/local/lib/python3.10/dist-packages (from datasets) (2.2.2)\n",
            "Requirement already satisfied: requests>=2.32.2 in /usr/local/lib/python3.10/dist-packages (from datasets) (2.32.3)\n",
            "Requirement already satisfied: tqdm>=4.66.3 in /usr/local/lib/python3.10/dist-packages (from datasets) (4.67.1)\n",
            "Collecting xxhash (from datasets)\n",
            "  Downloading xxhash-3.5.0-cp310-cp310-manylinux_2_17_x86_64.manylinux2014_x86_64.whl.metadata (12 kB)\n",
            "Collecting multiprocess<0.70.17 (from datasets)\n",
            "  Downloading multiprocess-0.70.16-py310-none-any.whl.metadata (7.2 kB)\n",
            "Collecting fsspec<=2024.9.0,>=2023.1.0 (from fsspec[http]<=2024.9.0,>=2023.1.0->datasets)\n",
            "  Downloading fsspec-2024.9.0-py3-none-any.whl.metadata (11 kB)\n",
            "Requirement already satisfied: aiohttp in /usr/local/lib/python3.10/dist-packages (from datasets) (3.11.10)\n",
            "Requirement already satisfied: huggingface-hub>=0.23.0 in /usr/local/lib/python3.10/dist-packages (from datasets) (0.27.0)\n",
            "Requirement already satisfied: packaging in /usr/local/lib/python3.10/dist-packages (from datasets) (24.2)\n",
            "Requirement already satisfied: pyyaml>=5.1 in /usr/local/lib/python3.10/dist-packages (from datasets) (6.0.2)\n",
            "Requirement already satisfied: aiohappyeyeballs>=2.3.0 in /usr/local/lib/python3.10/dist-packages (from aiohttp->datasets) (2.4.4)\n",
            "Requirement already satisfied: aiosignal>=1.1.2 in /usr/local/lib/python3.10/dist-packages (from aiohttp->datasets) (1.3.2)\n",
            "Requirement already satisfied: async-timeout<6.0,>=4.0 in /usr/local/lib/python3.10/dist-packages (from aiohttp->datasets) (4.0.3)\n",
            "Requirement already satisfied: attrs>=17.3.0 in /usr/local/lib/python3.10/dist-packages (from aiohttp->datasets) (24.3.0)\n",
            "Requirement already satisfied: frozenlist>=1.1.1 in /usr/local/lib/python3.10/dist-packages (from aiohttp->datasets) (1.5.0)\n",
            "Requirement already satisfied: multidict<7.0,>=4.5 in /usr/local/lib/python3.10/dist-packages (from aiohttp->datasets) (6.1.0)\n",
            "Requirement already satisfied: propcache>=0.2.0 in /usr/local/lib/python3.10/dist-packages (from aiohttp->datasets) (0.2.1)\n",
            "Requirement already satisfied: yarl<2.0,>=1.17.0 in /usr/local/lib/python3.10/dist-packages (from aiohttp->datasets) (1.18.3)\n",
            "Requirement already satisfied: typing-extensions>=3.7.4.3 in /usr/local/lib/python3.10/dist-packages (from huggingface-hub>=0.23.0->datasets) (4.12.2)\n",
            "Requirement already satisfied: charset-normalizer<4,>=2 in /usr/local/lib/python3.10/dist-packages (from requests>=2.32.2->datasets) (3.4.0)\n",
            "Requirement already satisfied: idna<4,>=2.5 in /usr/local/lib/python3.10/dist-packages (from requests>=2.32.2->datasets) (3.10)\n",
            "Requirement already satisfied: urllib3<3,>=1.21.1 in /usr/local/lib/python3.10/dist-packages (from requests>=2.32.2->datasets) (2.2.3)\n",
            "Requirement already satisfied: certifi>=2017.4.17 in /usr/local/lib/python3.10/dist-packages (from requests>=2.32.2->datasets) (2024.12.14)\n",
            "Requirement already satisfied: python-dateutil>=2.8.2 in /usr/local/lib/python3.10/dist-packages (from pandas->datasets) (2.8.2)\n",
            "Requirement already satisfied: pytz>=2020.1 in /usr/local/lib/python3.10/dist-packages (from pandas->datasets) (2024.2)\n",
            "Requirement already satisfied: tzdata>=2022.7 in /usr/local/lib/python3.10/dist-packages (from pandas->datasets) (2024.2)\n",
            "Requirement already satisfied: six>=1.5 in /usr/local/lib/python3.10/dist-packages (from python-dateutil>=2.8.2->pandas->datasets) (1.17.0)\n",
            "Downloading datasets-3.2.0-py3-none-any.whl (480 kB)\n",
            "\u001b[2K   \u001b[90m━━━━━━━━━━━━━━━━━━━━━━━━━━━━━━━━━━━━━━━━\u001b[0m \u001b[32m480.6/480.6 kB\u001b[0m \u001b[31m9.1 MB/s\u001b[0m eta \u001b[36m0:00:00\u001b[0m\n",
            "\u001b[?25hDownloading dill-0.3.8-py3-none-any.whl (116 kB)\n",
            "\u001b[2K   \u001b[90m━━━━━━━━━━━━━━━━━━━━━━━━━━━━━━━━━━━━━━━━\u001b[0m \u001b[32m116.3/116.3 kB\u001b[0m \u001b[31m7.0 MB/s\u001b[0m eta \u001b[36m0:00:00\u001b[0m\n",
            "\u001b[?25hDownloading fsspec-2024.9.0-py3-none-any.whl (179 kB)\n",
            "\u001b[2K   \u001b[90m━━━━━━━━━━━━━━━━━━━━━━━━━━━━━━━━━━━━━━━━\u001b[0m \u001b[32m179.3/179.3 kB\u001b[0m \u001b[31m11.1 MB/s\u001b[0m eta \u001b[36m0:00:00\u001b[0m\n",
            "\u001b[?25hDownloading multiprocess-0.70.16-py310-none-any.whl (134 kB)\n",
            "\u001b[2K   \u001b[90m━━━━━━━━━━━━━━━━━━━━━━━━━━━━━━━━━━━━━━━━\u001b[0m \u001b[32m134.8/134.8 kB\u001b[0m \u001b[31m6.2 MB/s\u001b[0m eta \u001b[36m0:00:00\u001b[0m\n",
            "\u001b[?25hDownloading xxhash-3.5.0-cp310-cp310-manylinux_2_17_x86_64.manylinux2014_x86_64.whl (194 kB)\n",
            "\u001b[2K   \u001b[90m━━━━━━━━━━━━━━━━━━━━━━━━━━━━━━━━━━━━━━━━\u001b[0m \u001b[32m194.1/194.1 kB\u001b[0m \u001b[31m10.7 MB/s\u001b[0m eta \u001b[36m0:00:00\u001b[0m\n",
            "\u001b[?25hInstalling collected packages: xxhash, fsspec, dill, multiprocess, datasets\n",
            "  Attempting uninstall: fsspec\n",
            "    Found existing installation: fsspec 2024.10.0\n",
            "    Uninstalling fsspec-2024.10.0:\n",
            "      Successfully uninstalled fsspec-2024.10.0\n",
            "\u001b[31mERROR: pip's dependency resolver does not currently take into account all the packages that are installed. This behaviour is the source of the following dependency conflicts.\n",
            "gcsfs 2024.10.0 requires fsspec==2024.10.0, but you have fsspec 2024.9.0 which is incompatible.\u001b[0m\u001b[31m\n",
            "\u001b[0mSuccessfully installed datasets-3.2.0 dill-0.3.8 fsspec-2024.9.0 multiprocess-0.70.16 xxhash-3.5.0\n"
          ]
        }
      ],
      "source": [
        "pip install datasets"
      ]
    },
    {
      "cell_type": "code",
      "execution_count": null,
      "metadata": {
        "id": "5rlfJ8oFWqny"
      },
      "outputs": [],
      "source": [
        "dialogues = []\n",
        "for q, a in zip(questions, answers):\n",
        "    dialogue = f\"### Human: {q}\\n### Assistant: {a}\"\n",
        "    dialogues.append({'text': dialogue})"
      ]
    },
    {
      "cell_type": "code",
      "execution_count": null,
      "metadata": {
        "id": "kCIEGQAhW7Wa"
      },
      "outputs": [],
      "source": [
        "from datasets import Dataset, DatasetDict\n",
        "dataset = Dataset.from_list(dialogues)"
      ]
    },
    {
      "cell_type": "code",
      "execution_count": null,
      "metadata": {
        "id": "z8PLUlezW9v2"
      },
      "outputs": [],
      "source": [
        "dataset_split = dataset.train_test_split(test_size=0.2, seed=42)\n",
        "\n",
        "ds = DatasetDict({\n",
        "    'train': dataset_split['train'],\n",
        "    'test': dataset_split['test']\n",
        "})"
      ]
    },
    {
      "cell_type": "code",
      "execution_count": null,
      "metadata": {
        "colab": {
          "base_uri": "https://localhost:8080/"
        },
        "id": "fIQHFUxoXWPu",
        "outputId": "a7ba5647-9a9b-4121-c3c9-c60eadce0534"
      },
      "outputs": [
        {
          "name": "stdout",
          "output_type": "stream",
          "text": [
            "DatasetDict({\n",
            "    train: Dataset({\n",
            "        features: ['text'],\n",
            "        num_rows: 107\n",
            "    })\n",
            "    test: Dataset({\n",
            "        features: ['text'],\n",
            "        num_rows: 27\n",
            "    })\n",
            "})\n"
          ]
        }
      ],
      "source": [
        "print(ds)"
      ]
    },
    {
      "cell_type": "code",
      "execution_count": null,
      "metadata": {
        "colab": {
          "base_uri": "https://localhost:8080/"
        },
        "id": "CCMOCt-KecQA",
        "outputId": "ac1517d1-504a-4479-e5a6-c9521c19afb7"
      },
      "outputs": [
        {
          "name": "stdout",
          "output_type": "stream",
          "text": [
            "{'text': \"### Human: Que comprend l'auto-évaluation dans le processus d'évaluation annuelle de l'entreprise XXX?\\n### Assistant: L'auto-évaluation dans le processus d'évaluation annuelle de l'entreprise XXX permet à chaque employé de réfléchir à ses réalisations, ses défis et ses progrès par rapport aux objectifs fixés.\"}\n"
          ]
        }
      ],
      "source": [
        "print(ds['train'][0])"
      ]
    },
    {
      "cell_type": "markdown",
      "metadata": {
        "id": "2lIRjUHMXqH6"
      },
      "source": [
        "** Saving all questions and responses into a json file**"
      ]
    },
    {
      "cell_type": "code",
      "execution_count": null,
      "metadata": {
        "colab": {
          "base_uri": "https://localhost:8080/",
          "height": 17
        },
        "id": "7k0G1TN0XhdG",
        "outputId": "4603c448-9234-45c6-8a3f-b3bfe5109ec3"
      },
      "outputs": [
        {
          "data": {
            "application/javascript": "\n    async function download(id, filename, size) {\n      if (!google.colab.kernel.accessAllowed) {\n        return;\n      }\n      const div = document.createElement('div');\n      const label = document.createElement('label');\n      label.textContent = `Downloading \"${filename}\": `;\n      div.appendChild(label);\n      const progress = document.createElement('progress');\n      progress.max = size;\n      div.appendChild(progress);\n      document.body.appendChild(div);\n\n      const buffers = [];\n      let downloaded = 0;\n\n      const channel = await google.colab.kernel.comms.open(id);\n      // Send a message to notify the kernel that we're ready.\n      channel.send({})\n\n      for await (const message of channel.messages) {\n        // Send a message to notify the kernel that we're ready.\n        channel.send({})\n        if (message.buffers) {\n          for (const buffer of message.buffers) {\n            buffers.push(buffer);\n            downloaded += buffer.byteLength;\n            progress.value = downloaded;\n          }\n        }\n      }\n      const blob = new Blob(buffers, {type: 'application/binary'});\n      const a = document.createElement('a');\n      a.href = window.URL.createObjectURL(blob);\n      a.download = filename;\n      div.appendChild(a);\n      a.click();\n      div.remove();\n    }\n  ",
            "text/plain": [
              "<IPython.core.display.Javascript object>"
            ]
          },
          "metadata": {},
          "output_type": "display_data"
        },
        {
          "data": {
            "application/javascript": "download(\"download_faab6b1e-9816-4997-b89c-f1637cf195fe\", \"dataset.json\", 45041)",
            "text/plain": [
              "<IPython.core.display.Javascript object>"
            ]
          },
          "metadata": {},
          "output_type": "display_data"
        }
      ],
      "source": [
        "import json\n",
        "\n",
        "output_file = \"dataset.json\"\n",
        "\n",
        "with open(output_file, \"w\") as f:\n",
        "    for split_name, split_data in ds.items():\n",
        "        for example in split_data:\n",
        "            entry = {\"human\": example[\"text\"].split(\"### Human: \")[1].split(\"\\n### Assistant: \")[0],\n",
        "                     \"assistant\": example[\"text\"].split(\"### Assistant: \")[1]}\n",
        "            f.write(json.dumps(entry) + \"\\n\")\n",
        "\n",
        "from google.colab import files\n",
        "files.download(output_file)"
      ]
    },
    {
      "cell_type": "code",
      "execution_count": null,
      "metadata": {
        "id": "sPdnZsrLdyyw"
      },
      "outputs": [],
      "source": []
    }
  ],
  "metadata": {
    "colab": {
      "provenance": []
    },
    "kernelspec": {
      "display_name": "Python 3",
      "name": "python3"
    },
    "language_info": {
      "name": "python"
    }
  },
  "nbformat": 4,
  "nbformat_minor": 0
}
